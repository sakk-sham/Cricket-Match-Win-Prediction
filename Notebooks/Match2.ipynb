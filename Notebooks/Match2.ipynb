{
 "cells": [
  {
   "cell_type": "code",
   "execution_count": 24,
   "id": "8cda359e-ad2d-4c5a-bebd-2b2711a40dd5",
   "metadata": {},
   "outputs": [],
   "source": [
    "import pandas as pd"
   ]
  },
  {
   "cell_type": "code",
   "execution_count": 25,
   "id": "74165ef8-bc58-4c4e-ac3b-dc6f0cd1bd81",
   "metadata": {},
   "outputs": [],
   "source": [
    "mat_df = pd.read_csv(r\"C:\\Users\\sakka\\OneDrive\\Documents\\AMEX\\MATCH.csv\")"
   ]
  },
  {
   "cell_type": "code",
   "execution_count": 26,
   "id": "4871bd5c-e488-4691-bbac-180458310975",
   "metadata": {},
   "outputs": [
    {
     "data": {
      "text/html": [
       "<div>\n",
       "<style scoped>\n",
       "    .dataframe tbody tr th:only-of-type {\n",
       "        vertical-align: middle;\n",
       "    }\n",
       "\n",
       "    .dataframe tbody tr th {\n",
       "        vertical-align: top;\n",
       "    }\n",
       "\n",
       "    .dataframe thead th {\n",
       "        text-align: right;\n",
       "    }\n",
       "</style>\n",
       "<table border=\"1\" class=\"dataframe\">\n",
       "  <thead>\n",
       "    <tr style=\"text-align: right;\">\n",
       "      <th></th>\n",
       "      <th>match id</th>\n",
       "      <th>team1</th>\n",
       "      <th>team2</th>\n",
       "      <th>winner</th>\n",
       "      <th>by</th>\n",
       "      <th>win amount</th>\n",
       "      <th>toss winner</th>\n",
       "      <th>toss decision</th>\n",
       "      <th>venue</th>\n",
       "      <th>city</th>\n",
       "      <th>...</th>\n",
       "      <th>inning2_runs</th>\n",
       "      <th>inning2_wickets</th>\n",
       "      <th>inning2_balls</th>\n",
       "      <th>team1_id</th>\n",
       "      <th>team1_roster_ids</th>\n",
       "      <th>team2_id</th>\n",
       "      <th>team2_roster_ids</th>\n",
       "      <th>series_type</th>\n",
       "      <th>winner_id</th>\n",
       "      <th>player_of_the_match_id</th>\n",
       "    </tr>\n",
       "  </thead>\n",
       "  <tbody>\n",
       "    <tr>\n",
       "      <th>0</th>\n",
       "      <td>8638034</td>\n",
       "      <td>Nn Ds</td>\n",
       "      <td>Wn</td>\n",
       "      <td>Wn</td>\n",
       "      <td>wickets</td>\n",
       "      <td>9.0</td>\n",
       "      <td>Wn</td>\n",
       "      <td>field</td>\n",
       "      <td>By Ol</td>\n",
       "      <td>Mount Maunganui</td>\n",
       "      <td>...</td>\n",
       "      <td>152.0</td>\n",
       "      <td>1.0</td>\n",
       "      <td>97.0</td>\n",
       "      <td>17982</td>\n",
       "      <td>7907451.0:4381761.0:31464.0:258649.0:4949790.0...</td>\n",
       "      <td>18570</td>\n",
       "      <td>2653993.0:6718326.0:6718382.0:2486896.0:228878...</td>\n",
       "      <td>other_domestic</td>\n",
       "      <td>18570</td>\n",
       "      <td>NaN</td>\n",
       "    </tr>\n",
       "    <tr>\n",
       "      <th>1</th>\n",
       "      <td>8588005</td>\n",
       "      <td>Me Rs</td>\n",
       "      <td>Sy Tr</td>\n",
       "      <td>Sy Tr</td>\n",
       "      <td>runs</td>\n",
       "      <td>7.0</td>\n",
       "      <td>Sy Tr</td>\n",
       "      <td>field</td>\n",
       "      <td>Ca Ol</td>\n",
       "      <td>Carrara</td>\n",
       "      <td>...</td>\n",
       "      <td>117.0</td>\n",
       "      <td>2.0</td>\n",
       "      <td>74.0</td>\n",
       "      <td>33942</td>\n",
       "      <td>37351.0:46794.0:5406540.0:2231928.0:181404.0:1...</td>\n",
       "      <td>33963</td>\n",
       "      <td>1506098.0:1749075.0:36665.0:2083409.0:7534652....</td>\n",
       "      <td>other_domestic</td>\n",
       "      <td>33963</td>\n",
       "      <td>1749075.0</td>\n",
       "    </tr>\n",
       "    <tr>\n",
       "      <th>2</th>\n",
       "      <td>8587837</td>\n",
       "      <td>Sy Ss</td>\n",
       "      <td>Be Ht</td>\n",
       "      <td>Be Ht</td>\n",
       "      <td>wickets</td>\n",
       "      <td>4.0</td>\n",
       "      <td>Sy Ss</td>\n",
       "      <td>bat</td>\n",
       "      <td>Be Ct Gd</td>\n",
       "      <td>Brisbane</td>\n",
       "      <td>...</td>\n",
       "      <td>171.0</td>\n",
       "      <td>6.0</td>\n",
       "      <td>119.0</td>\n",
       "      <td>33956</td>\n",
       "      <td>7869987.0:7620283.0:2076192.0:4002340.0:306369...</td>\n",
       "      <td>33921</td>\n",
       "      <td>7620269.0:2286437.0:87191.0:5786766.0:3114803....</td>\n",
       "      <td>other_domestic</td>\n",
       "      <td>33921</td>\n",
       "      <td>3890984.0</td>\n",
       "    </tr>\n",
       "    <tr>\n",
       "      <th>3</th>\n",
       "      <td>8638041</td>\n",
       "      <td>Nn Ds</td>\n",
       "      <td>Oo</td>\n",
       "      <td>Oo</td>\n",
       "      <td>wickets</td>\n",
       "      <td>2.0</td>\n",
       "      <td>Oo</td>\n",
       "      <td>field</td>\n",
       "      <td>By Ol</td>\n",
       "      <td>Mount Maunganui</td>\n",
       "      <td>...</td>\n",
       "      <td>156.0</td>\n",
       "      <td>8.0</td>\n",
       "      <td>126.0</td>\n",
       "      <td>17982</td>\n",
       "      <td>7907451.0:4381761.0:31464.0:4949790.0:258649.0...</td>\n",
       "      <td>18360</td>\n",
       "      <td>2319638.0:256080.0:7918280.0:3913447.0:2690498...</td>\n",
       "      <td>other_domestic</td>\n",
       "      <td>18360</td>\n",
       "      <td>NaN</td>\n",
       "    </tr>\n",
       "    <tr>\n",
       "      <th>4</th>\n",
       "      <td>8587921</td>\n",
       "      <td>Ht Hs</td>\n",
       "      <td>Me Ss</td>\n",
       "      <td>Ht Hs</td>\n",
       "      <td>runs</td>\n",
       "      <td>21.0</td>\n",
       "      <td>Me Ss</td>\n",
       "      <td>field</td>\n",
       "      <td>Be Ol</td>\n",
       "      <td>Hobart</td>\n",
       "      <td>...</td>\n",
       "      <td>143.0</td>\n",
       "      <td>9.0</td>\n",
       "      <td>123.0</td>\n",
       "      <td>33928</td>\n",
       "      <td>4223883.0:2161599.0:1655436.0:5788418.0:319948...</td>\n",
       "      <td>33949</td>\n",
       "      <td>363047.0:2275097.0:3901078.0:2275195.0:4230127...</td>\n",
       "      <td>other_domestic</td>\n",
       "      <td>33928</td>\n",
       "      <td>3125849.0</td>\n",
       "    </tr>\n",
       "  </tbody>\n",
       "</table>\n",
       "<p>5 rows × 30 columns</p>\n",
       "</div>"
      ],
      "text/plain": [
       "   match id  team1  team2 winner       by  win amount toss winner  \\\n",
       "0   8638034  Nn Ds     Wn     Wn  wickets         9.0          Wn   \n",
       "1   8588005  Me Rs  Sy Tr  Sy Tr     runs         7.0       Sy Tr   \n",
       "2   8587837  Sy Ss  Be Ht  Be Ht  wickets         4.0       Sy Ss   \n",
       "3   8638041  Nn Ds     Oo     Oo  wickets         2.0          Oo   \n",
       "4   8587921  Ht Hs  Me Ss  Ht Hs     runs        21.0       Me Ss   \n",
       "\n",
       "  toss decision     venue             city  ... inning2_runs inning2_wickets  \\\n",
       "0         field     By Ol  Mount Maunganui  ...        152.0             1.0   \n",
       "1         field     Ca Ol          Carrara  ...        117.0             2.0   \n",
       "2           bat  Be Ct Gd         Brisbane  ...        171.0             6.0   \n",
       "3         field     By Ol  Mount Maunganui  ...        156.0             8.0   \n",
       "4         field     Be Ol           Hobart  ...        143.0             9.0   \n",
       "\n",
       "  inning2_balls team1_id                                   team1_roster_ids  \\\n",
       "0          97.0    17982  7907451.0:4381761.0:31464.0:258649.0:4949790.0...   \n",
       "1          74.0    33942  37351.0:46794.0:5406540.0:2231928.0:181404.0:1...   \n",
       "2         119.0    33956  7869987.0:7620283.0:2076192.0:4002340.0:306369...   \n",
       "3         126.0    17982  7907451.0:4381761.0:31464.0:4949790.0:258649.0...   \n",
       "4         123.0    33928  4223883.0:2161599.0:1655436.0:5788418.0:319948...   \n",
       "\n",
       "  team2_id                                   team2_roster_ids     series_type  \\\n",
       "0    18570  2653993.0:6718326.0:6718382.0:2486896.0:228878...  other_domestic   \n",
       "1    33963  1506098.0:1749075.0:36665.0:2083409.0:7534652....  other_domestic   \n",
       "2    33921  7620269.0:2286437.0:87191.0:5786766.0:3114803....  other_domestic   \n",
       "3    18360  2319638.0:256080.0:7918280.0:3913447.0:2690498...  other_domestic   \n",
       "4    33949  363047.0:2275097.0:3901078.0:2275195.0:4230127...  other_domestic   \n",
       "\n",
       "   winner_id  player_of_the_match_id  \n",
       "0      18570                     NaN  \n",
       "1      33963               1749075.0  \n",
       "2      33921               3890984.0  \n",
       "3      18360                     NaN  \n",
       "4      33928               3125849.0  \n",
       "\n",
       "[5 rows x 30 columns]"
      ]
     },
     "execution_count": 26,
     "metadata": {},
     "output_type": "execute_result"
    }
   ],
   "source": [
    "mat_df.head()"
   ]
  },
  {
   "cell_type": "code",
   "execution_count": 27,
   "id": "4d757288-479f-40d5-99d5-d461b76a1c7b",
   "metadata": {},
   "outputs": [
    {
     "data": {
      "text/plain": [
       "['match id',\n",
       " 'team1',\n",
       " 'team2',\n",
       " 'winner',\n",
       " 'by',\n",
       " 'win amount',\n",
       " 'toss winner',\n",
       " 'toss decision',\n",
       " 'venue',\n",
       " 'city',\n",
       " 'match_dt',\n",
       " 'lighting',\n",
       " 'series_name',\n",
       " 'season',\n",
       " 'ground_id',\n",
       " 'umpire1',\n",
       " 'umpire2',\n",
       " 'inning1_runs',\n",
       " 'inning1_wickets',\n",
       " 'inning1_balls',\n",
       " 'inning2_runs',\n",
       " 'inning2_wickets',\n",
       " 'inning2_balls',\n",
       " 'team1_id',\n",
       " 'team1_roster_ids',\n",
       " 'team2_id',\n",
       " 'team2_roster_ids',\n",
       " 'series_type',\n",
       " 'winner_id',\n",
       " 'player_of_the_match_id']"
      ]
     },
     "execution_count": 27,
     "metadata": {},
     "output_type": "execute_result"
    }
   ],
   "source": [
    "mat_df.columns.to_list()"
   ]
  },
  {
   "cell_type": "code",
   "execution_count": 28,
   "id": "3b71b160-bb8e-40c5-8b1e-71763a11a268",
   "metadata": {},
   "outputs": [],
   "source": [
    "mat_df['team1_toss_win'] = mat_df.apply(lambda row: 1 if row['toss winner'] == row['team1'] else 0, axis=1)"
   ]
  },
  {
   "cell_type": "code",
   "execution_count": 29,
   "id": "e9bbe4c7-32dc-4f22-9264-a9647adba7ef",
   "metadata": {},
   "outputs": [],
   "source": [
    "#Add a column of team1_inning1\n",
    "mat_df['team1_inning1'] = mat_df.apply(\n",
    "    lambda row: 1 if (row['toss winner'] == row['team1'] and row['toss decision'] == 'bat') or\n",
    "                      (row['toss winner'] == row['team2'] and row['toss decision'] == 'field')\n",
    "                      else 0, axis=1)"
   ]
  },
  {
   "cell_type": "markdown",
   "id": "4b3ca616-3e10-4016-9adb-47a40ec5d899",
   "metadata": {},
   "source": [
    "### Add columns of team1_runs and team2_runs"
   ]
  },
  {
   "cell_type": "code",
   "execution_count": 30,
   "id": "1b97a00c-7158-43a2-bd83-96c70e8b8cf2",
   "metadata": {},
   "outputs": [],
   "source": [
    "mat_df['team1_runs'] = mat_df.apply(lambda row: row['inning1_runs'] if row['team1_inning1'] == 1 else row['inning2_runs'],axis=1)\n",
    "\n",
    "mat_df['team2_runs'] = mat_df.apply(lambda row: row['inning2_runs'] if row['team1_inning1'] == 1 else row['inning1_runs'],axis=1)"
   ]
  },
  {
   "cell_type": "code",
   "execution_count": 31,
   "id": "96c173e7-f4d3-4622-9603-e779fafa030d",
   "metadata": {},
   "outputs": [],
   "source": [
    "#team1_runs_conc and team2_runs_conc\n",
    "mat_df['team1_runs_conc'] = mat_df.apply(lambda row: row['inning2_runs'] if row['team1_inning1'] == 1 else row['inning1_runs'],axis=1)\n",
    "\n",
    "mat_df['team2_runs_conc'] = mat_df.apply(lambda row: row['inning1_runs'] if row['team1_inning1'] == 1 else row['inning2_runs'],axis=1)"
   ]
  },
  {
   "cell_type": "code",
   "execution_count": 32,
   "id": "48628aaa-2bc6-4bcd-8978-2523d0334cff",
   "metadata": {},
   "outputs": [],
   "source": [
    "#Create two new dataframes for runc_conc\n",
    "team_runs_conc_df1 = mat_df[['team1_id', 'team1_runs_conc']].rename(columns={'team1_id': 'team_id', 'team1_runs': 'team_runs_conc'})\n",
    "team_runs_conc_df2 = mat_df[['team2_id', 'team2_runs_conc']].rename(columns={'team2_id': 'team_id', 'team2_runs': 'team_runs_conc'})"
   ]
  },
  {
   "cell_type": "code",
   "execution_count": 33,
   "id": "82418839-bf16-4f3b-bdb0-380ad9284bda",
   "metadata": {},
   "outputs": [],
   "source": [
    "team_runs_conc_df1 = team_runs_conc_df1.rename(columns={'team1_id': 'team_id', 'team1_runs_conc': 'team_runs_conc'})\n",
    "team_runs_conc_df2 = team_runs_conc_df2.rename(columns={'team2_id': 'team_id', 'team2_runs_conc': 'team_runs_conc'})"
   ]
  },
  {
   "cell_type": "code",
   "execution_count": 34,
   "id": "5ba5c7b5-c1db-42ff-8c1c-ea08089a45ed",
   "metadata": {},
   "outputs": [],
   "source": [
    "#Create two new dataframes\n",
    "team_runs_df1 = mat_df[['team1_id', 'team1_runs']].rename(columns={'team1_id': 'team_id', 'team1_runs': 'team_runs'})\n",
    "team_runs_df2 = mat_df[['team2_id', 'team2_runs']].rename(columns={'team2_id': 'team_id', 'team2_runs': 'team_runs'})"
   ]
  },
  {
   "cell_type": "code",
   "execution_count": 35,
   "id": "4b274e37-c101-42f6-8379-1ab3aa968c3b",
   "metadata": {},
   "outputs": [],
   "source": [
    "#concatenate the dataframes for team_runs_conc\n",
    "team_runs_conc_df = pd.concat([team_runs_conc_df1,team_runs_conc_df2])"
   ]
  },
  {
   "cell_type": "code",
   "execution_count": 36,
   "id": "5de98549-392e-453c-be9e-79e866072bc8",
   "metadata": {},
   "outputs": [],
   "source": [
    "team_runs_conc_df.to_csv(r'C:\\Users\\sakka\\OneDrive\\Desktop\\check5.csv',index = False)"
   ]
  },
  {
   "cell_type": "code",
   "execution_count": 37,
   "id": "d998e75a-e5b2-41a3-8e6a-8982efad8bd8",
   "metadata": {},
   "outputs": [],
   "source": [
    "#concatenate the dataframes\n",
    "team_runs_df = pd.concat([team_runs_df1,team_runs_df2])"
   ]
  },
  {
   "cell_type": "markdown",
   "id": "87a03dc2-8dc9-4f88-a3b1-484fab7f1274",
   "metadata": {},
   "source": [
    "### Add columns of team1_wickets and team2_wickets"
   ]
  },
  {
   "cell_type": "code",
   "execution_count": 38,
   "id": "82bd0626-42b6-4887-8482-0b35f939d544",
   "metadata": {},
   "outputs": [],
   "source": [
    "#Add column of team1_wickets and team2_wickets\n",
    "mat_df['team1_wickets'] = mat_df.apply(lambda row: row['inning1_wickets'] if row['team1_inning1'] == 1 else row['inning2_wickets'],axis=1)\n",
    "\n",
    "mat_df['team2_wickets'] = mat_df.apply(lambda row: row['inning2_wickets'] if row['team1_inning1'] == 1 else row['inning1_wickets'],axis=1)"
   ]
  },
  {
   "cell_type": "code",
   "execution_count": 39,
   "id": "5692e722-148a-4398-8f5f-10dc71fd2780",
   "metadata": {},
   "outputs": [],
   "source": [
    "#Create two new dataframes\n",
    "team_wickets_df1 = mat_df[['team1_id', 'team1_wickets']].rename(columns={'team1_id': 'team_id', 'team1_wickets': 'team_wickets'})\n",
    "team_wickets_df2 = mat_df[['team2_id', 'team2_wickets']].rename(columns={'team2_id': 'team_id', 'team2_wickets': 'team_wickets'})"
   ]
  },
  {
   "cell_type": "code",
   "execution_count": 40,
   "id": "f917fd41-efea-440b-8894-57675729db3d",
   "metadata": {},
   "outputs": [],
   "source": [
    "#concatenate the dataframes\n",
    "team_wickets_df = pd.concat([team_wickets_df1,team_wickets_df2])"
   ]
  },
  {
   "cell_type": "markdown",
   "id": "82fb3903-95df-4bf8-a97f-100ac3bae5f8",
   "metadata": {},
   "source": [
    "### Add columns of team1_balls and team2_balls"
   ]
  },
  {
   "cell_type": "code",
   "execution_count": 41,
   "id": "4de162da-80bd-49f2-ab16-898b3d4f826d",
   "metadata": {},
   "outputs": [],
   "source": [
    "#Add column of team1_balls and team2_balls\n",
    "mat_df['team1_balls'] = mat_df.apply(lambda row: row['inning1_balls'] if row['team1_inning1'] == 1 else row['inning2_balls'],axis=1)\n",
    "\n",
    "mat_df['team2_balls'] = mat_df.apply(lambda row: row['inning2_balls'] if row['team1_inning1'] == 1 else row['inning1_balls'],axis=1)"
   ]
  },
  {
   "cell_type": "code",
   "execution_count": 42,
   "id": "38e319f0-a5c3-49e2-9433-0ed5f976a27f",
   "metadata": {},
   "outputs": [],
   "source": [
    "#Create two new dataframes\n",
    "team_balls_df1 = mat_df[['team1_id', 'team1_balls']].rename(columns={'team1_id': 'team_id', 'team1_balls': 'team_balls'})\n",
    "team_balls_df2 = mat_df[['team2_id', 'team2_balls']].rename(columns={'team2_id': 'team_id', 'team2_balls': 'team_balls'})"
   ]
  },
  {
   "cell_type": "code",
   "execution_count": 43,
   "id": "8207c4d6-011f-4395-9c4f-39cdd099e1e3",
   "metadata": {},
   "outputs": [],
   "source": [
    "#concatenate the dataframes\n",
    "team_balls_df = pd.concat([team_balls_df1,team_balls_df2])"
   ]
  },
  {
   "cell_type": "markdown",
   "id": "cec0ac7c-3e9e-450e-b917-7da271d57112",
   "metadata": {},
   "source": [
    "### uteam_id"
   ]
  },
  {
   "cell_type": "code",
   "execution_count": 44,
   "id": "519197ef-a40d-4c5b-824b-319a44e650f1",
   "metadata": {},
   "outputs": [],
   "source": [
    "uteam_id = team_balls_df.groupby('team_id', as_index=False)['team_balls'].mean()"
   ]
  },
  {
   "cell_type": "code",
   "execution_count": 45,
   "id": "b0587d2c-930d-4fcf-bbbc-cd1e0fc63b45",
   "metadata": {},
   "outputs": [
    {
     "data": {
      "text/html": [
       "<div>\n",
       "<style scoped>\n",
       "    .dataframe tbody tr th:only-of-type {\n",
       "        vertical-align: middle;\n",
       "    }\n",
       "\n",
       "    .dataframe tbody tr th {\n",
       "        vertical-align: top;\n",
       "    }\n",
       "\n",
       "    .dataframe thead th {\n",
       "        text-align: right;\n",
       "    }\n",
       "</style>\n",
       "<table border=\"1\" class=\"dataframe\">\n",
       "  <thead>\n",
       "    <tr style=\"text-align: right;\">\n",
       "      <th></th>\n",
       "      <th>team_id</th>\n",
       "      <th>team_balls</th>\n",
       "    </tr>\n",
       "  </thead>\n",
       "  <tbody>\n",
       "    <tr>\n",
       "      <th>0</th>\n",
       "      <td>20</td>\n",
       "      <td>116.382979</td>\n",
       "    </tr>\n",
       "    <tr>\n",
       "      <th>1</th>\n",
       "      <td>27</td>\n",
       "      <td>114.487805</td>\n",
       "    </tr>\n",
       "    <tr>\n",
       "      <th>2</th>\n",
       "      <td>34</td>\n",
       "      <td>114.285714</td>\n",
       "    </tr>\n",
       "    <tr>\n",
       "      <th>3</th>\n",
       "      <td>41</td>\n",
       "      <td>119.000000</td>\n",
       "    </tr>\n",
       "    <tr>\n",
       "      <th>4</th>\n",
       "      <td>48</td>\n",
       "      <td>115.111111</td>\n",
       "    </tr>\n",
       "  </tbody>\n",
       "</table>\n",
       "</div>"
      ],
      "text/plain": [
       "   team_id  team_balls\n",
       "0       20  116.382979\n",
       "1       27  114.487805\n",
       "2       34  114.285714\n",
       "3       41  119.000000\n",
       "4       48  115.111111"
      ]
     },
     "execution_count": 45,
     "metadata": {},
     "output_type": "execute_result"
    }
   ],
   "source": [
    "uteam_id1.head()"
   ]
  },
  {
   "cell_type": "code",
   "execution_count": null,
   "id": "e3e4d0b3-62b8-474b-8c2b-5b8ddcb2290f",
   "metadata": {},
   "outputs": [],
   "source": [
    "uteam_id['avg_win_wkts'] = uteam_id['total_win_wkts']/uteam_id['match_win_wkts']"
   ]
  },
  {
   "cell_type": "code",
   "execution_count": null,
   "id": "ed55a969-303b-46ea-b40e-4effa71cfa42",
   "metadata": {},
   "outputs": [],
   "source": [
    "uteam_id['avg_win_runs'].isin([float('inf'), float('-inf')]).any()"
   ]
  },
  {
   "cell_type": "code",
   "execution_count": null,
   "id": "93decef0-7188-4a8a-bdbc-d9d5d9c8739a",
   "metadata": {},
   "outputs": [],
   "source": [
    "uteam_id1 = team_wickets_df.groupby('team_id', as_index=False)['team_wickets'].mean()"
   ]
  },
  {
   "cell_type": "code",
   "execution_count": null,
   "id": "de312670-33eb-4c60-a6bf-ca3322d5a5a7",
   "metadata": {},
   "outputs": [],
   "source": [
    "#merge\n",
    "uteam_id = pd.merge(uteam_id, summary_df, on='team_id')"
   ]
  },
  {
   "cell_type": "code",
   "execution_count": null,
   "id": "8311eb95-364d-4156-b937-233fe54a2d9d",
   "metadata": {},
   "outputs": [],
   "source": [
    "#Average win runs and wickets\n",
    "uteam_id['avg_win_runs'] = uteam_id['total_win_runs']/uteam_id['match'"
   ]
  },
  {
   "cell_type": "code",
   "execution_count": null,
   "id": "0888805a-49d9-4f1b-85b3-ed92b108acc4",
   "metadata": {},
   "outputs": [],
   "source": [
    "#Adding overs column"
   ]
  },
  {
   "cell_type": "code",
   "execution_count": null,
   "id": "4c3215dc-beca-48b7-819c-9a29a18a649b",
   "metadata": {},
   "outputs": [],
   "source": [
    "uteam_id['avg_overs'] = uteam_id['team_balls']/6"
   ]
  },
  {
   "cell_type": "code",
   "execution_count": null,
   "id": "c805fef0-96fe-46ee-9de6-49832d194a96",
   "metadata": {},
   "outputs": [],
   "source": [
    "#average run_rate\n",
    "uteam_id['avg_rr'] = uteam_id['team_runs']/uteam_id['avg_overs']"
   ]
  },
  {
   "cell_type": "code",
   "execution_count": null,
   "id": "c04d8e1d-14ac-4940-8dc7-39dd251af688",
   "metadata": {},
   "outputs": [],
   "source": [
    "#Add number of matches of the team\n",
    "matches_df = team_runs_df.groupby('team_id').size().reset_index(name='count')"
   ]
  },
  {
   "cell_type": "code",
   "execution_count": null,
   "id": "665d9d48-12bf-4dba-83e4-9d3827daadb7",
   "metadata": {},
   "outputs": [],
   "source": [
    "matches_df = matches_df.rename(columns = {'count' : 'matches'})"
   ]
  },
  {
   "cell_type": "code",
   "execution_count": null,
   "id": "bb90774d-a79e-45ae-8560-d3b15675934d",
   "metadata": {},
   "outputs": [],
   "source": [
    "#Add number of wins\n",
    "wins_df = mat_df.groupby('winner_id').size().reset_index(name='count')"
   ]
  },
  {
   "cell_type": "code",
   "execution_count": null,
   "id": "26a8ebdc-afd4-477d-921e-29f2bac4f336",
   "metadata": {},
   "outputs": [],
   "source": [
    "wins_df =wins_df.rename(columns = {'count' : 'wins', 'winner_id' : 'team_id'})"
   ]
  },
  {
   "cell_type": "code",
   "execution_count": null,
   "id": "08ba4b79-41d3-46f6-b593-65eae81944e4",
   "metadata": {},
   "outputs": [],
   "source": [
    "wins_df.head()"
   ]
  },
  {
   "cell_type": "code",
   "execution_count": null,
   "id": "82d5ad3e-4f50-413d-9723-ed2f3e3c643b",
   "metadata": {},
   "outputs": [],
   "source": [
    "#Add win percentage\n",
    "uteam_id['winp'] = (uteam_id['wins']/uteam_id['matches']) * 100"
   ]
  },
  {
   "cell_type": "code",
   "execution_count": null,
   "id": "4e7b38cd-be6c-441e-be24-21860bf3f127",
   "metadata": {},
   "outputs": [],
   "source": [
    "#win amount\n",
    "total_win_runs = mat_df[mat_df['by'] == 'runs'].groupby('winner_id').size().reset_index(name='total_win_runs')\n",
    "\n",
    "# Calculate total wins by wickets ('total_win_wkts')\n",
    "total_win_wkts = mat_df[mat_df['by'] == 'wickets'].groupby('winner_id').size().reset_index(name='total_win_wkts')\n",
    "\n",
    "# Merge the two DataFrames on 'winner_id' to create the summary DataFrame\n",
    "summary_df = pd.merge(total_win_runs, total_win_wkts, on='winner_id', how='outer').fillna(0)"
   ]
  },
  {
   "cell_type": "code",
   "execution_count": null,
   "id": "6bec53c2-6566-4cbc-ac9a-1b66416dc403",
   "metadata": {},
   "outputs": [],
   "source": [
    "summary_df = summary_df.rename(columns = {'total_win_runs' : 'match_win_runs', 'total_win_wkts': 'match_win_wkts'})"
   ]
  },
  {
   "cell_type": "code",
   "execution_count": null,
   "id": "4005aa91-777f-4bd9-836c-36fb763dbf7d",
   "metadata": {},
   "outputs": [],
   "source": [
    "summary_df1 = summary_df1.rename(columns = {'winner_id' : 'team_id'})"
   ]
  },
  {
   "cell_type": "code",
   "execution_count": null,
   "id": "75660933-9bd5-458e-a13a-e3c87e958b4c",
   "metadata": {},
   "outputs": [],
   "source": [
    "summary_df.head()"
   ]
  },
  {
   "cell_type": "code",
   "execution_count": null,
   "id": "24016d6e-1c80-4c9b-b51c-e5ef590fcaf0",
   "metadata": {},
   "outputs": [],
   "source": [
    "total_win_runs = mat_df[mat_df['by'] == 'runs'].groupby('winner_id')['win amount'].sum().reset_index()\n",
    "total_win_runs.columns = ['winner_id', 'total_win_runs']  # Rename the columns\n",
    "\n",
    "# Calculate total amount of wickets by which each team won ('total_win_wkts')\n",
    "total_win_wkts = mat_df[mat_df['by'] == 'wickets'].groupby('winner_id')['win amount'].sum().reset_index()\n",
    "total_win_wkts.columns = ['winner_id', 'total_win_wkts']  # Rename the columns\n",
    "\n",
    "# Merge the two DataFrames on 'winner_id' to create the summary DataFrame\n",
    "summary_df1 = pd.merge(total_win_runs, total_win_wkts, on='winner_id', how='outer').fillna(0)"
   ]
  },
  {
   "cell_type": "code",
   "execution_count": null,
   "id": "9c539b10-eaa6-4a5b-8a82-5eaf13f8b5e5",
   "metadata": {},
   "outputs": [],
   "source": [
    "uteam_id.to_csv(r'C:\\Users\\sakka\\OneDrive\\Documents\\AMEX\\unique_team_features.csv', index=False)"
   ]
  },
  {
   "cell_type": "code",
   "execution_count": null,
   "id": "12814bbf-61e9-4412-ac9e-57da17f5fdee",
   "metadata": {},
   "outputs": [],
   "source": [
    "#checking the feature of runs conceded"
   ]
  },
  {
   "cell_type": "code",
   "execution_count": null,
   "id": "cb9c7d90-b989-40f7-b31e-bc3e18c56f15",
   "metadata": {},
   "outputs": [],
   "source": [
    "train_df = pd.read_csv(r\"C:\\Users\\sakka\\OneDrive\\Documents\\AMEX\\train_after_sub1.csv\")"
   ]
  },
  {
   "cell_type": "code",
   "execution_count": null,
   "id": "1810060a-50f1-4628-a72d-b99d3252f9df",
   "metadata": {},
   "outputs": [],
   "source": [
    "team_runs_conc_df.head()"
   ]
  },
  {
   "cell_type": "code",
   "execution_count": null,
   "id": "46e78234-1f61-4fd6-bce8-fe4765a8dea0",
   "metadata": {},
   "outputs": [],
   "source": [
    "# Merge train_df with df to get team1_runs\n",
    "train_df = train_df.merge(team_runs_conc_df, how='left', left_on='team1_id', right_on='team_id')"
   ]
  },
  {
   "cell_type": "code",
   "execution_count": null,
   "id": "d0d19c6d-9a28-46a3-957e-330bb5678bea",
   "metadata": {},
   "outputs": [],
   "source": [
    "# Merge train_df with df to get team1_runs\n",
    "train_df = train_df.merge(team_runs_conc_df, how='left', left_on='team2_id', right_on='team_id')\n",
    "train_df.rename(columns = {'team_runs_conc':'team2_runs_conc'},inplace = True)\n",
    "\n",
    "# Drop the redundant team_id column\n",
    "train_df = train_df.drop(columns=['team_id'])"
   ]
  },
  {
   "cell_type": "code",
   "execution_count": null,
   "id": "bc044a9b-ef6f-48db-8073-8ee0578d0022",
   "metadata": {},
   "outputs": [],
   "source": [
    "testing.head()"
   ]
  },
  {
   "cell_type": "code",
   "execution_count": null,
   "id": "b93f9c92-64eb-416e-acd0-a9472f562318",
   "metadata": {},
   "outputs": [],
   "source": []
  }
 ],
 "metadata": {
  "kernelspec": {
   "display_name": "Python 3 (ipykernel)",
   "language": "python",
   "name": "python3"
  },
  "language_info": {
   "codemirror_mode": {
    "name": "ipython",
    "version": 3
   },
   "file_extension": ".py",
   "mimetype": "text/x-python",
   "name": "python",
   "nbconvert_exporter": "python",
   "pygments_lexer": "ipython3",
   "version": "3.11.7"
  }
 },
 "nbformat": 4,
 "nbformat_minor": 5
}
