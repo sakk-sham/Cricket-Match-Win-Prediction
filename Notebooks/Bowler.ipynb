{
 "cells": [
  {
   "cell_type": "code",
   "execution_count": 29,
   "id": "a56db09d-11f3-48bc-b858-90d23cdfbbe8",
   "metadata": {},
   "outputs": [],
   "source": [
    "import pandas as pd\n",
    "import numpy as np\n",
    "from functools import reduce"
   ]
  },
  {
   "cell_type": "code",
   "execution_count": 2,
   "id": "0b4b77c4-1832-41c5-bb5f-cfc144d7b764",
   "metadata": {},
   "outputs": [],
   "source": [
    "bowl_df = pd.read_csv(r\"C:\\Users\\sakka\\OneDrive\\Documents\\AMEX\\BOWLER.csv\")"
   ]
  },
  {
   "cell_type": "code",
   "execution_count": 1,
   "id": "d0e1055b-0d02-4185-b826-5ece6ee16b55",
   "metadata": {},
   "outputs": [],
   "source": [
    "#Adding required features in the bowl_df dataframe"
   ]
  },
  {
   "cell_type": "code",
   "execution_count": 10,
   "id": "9240bf6f-8e3f-4514-82a8-f6c8d1e13e67",
   "metadata": {},
   "outputs": [],
   "source": [
    "bowl_df['dot_percentage'] = bowl_df['dots']/bowl_df['balls_bowled']"
   ]
  },
  {
   "cell_type": "code",
   "execution_count": 13,
   "id": "6a0d31b9-ef8c-4ca5-ad65-6d553f40857d",
   "metadata": {},
   "outputs": [],
   "source": [
    "bowl_df['extras'] = bowl_df['noballs'] + bowl_df['wides']"
   ]
  },
  {
   "cell_type": "code",
   "execution_count": 19,
   "id": "cceb75fb-670c-41c3-88be-bd501c485bae",
   "metadata": {},
   "outputs": [],
   "source": [
    "bowl_df['boundary_percentage'] = (4 * bowl_df['Fours'] + 6 * bowl_df['Sixes'])/bowl_df['runs']"
   ]
  },
  {
   "cell_type": "code",
   "execution_count": 23,
   "id": "583c76e6-6ec3-42db-94b5-a621db82358f",
   "metadata": {},
   "outputs": [],
   "source": [
    "bowl_df['scaled_boundary'] = bowl_df['Fours'] + 1.5 * bowl_df['Sixes']"
   ]
  },
  {
   "cell_type": "code",
   "execution_count": 25,
   "id": "9e52d49d-baf3-47e8-8daa-7b43b9b35209",
   "metadata": {},
   "outputs": [],
   "source": [
    "bowl_df['boundary_per_ball'] = bowl_df['scaled_boundary']/bowl_df['balls_bowled']"
   ]
  },
  {
   "cell_type": "code",
   "execution_count": 27,
   "id": "9c678ccd-9c5c-4a54-9d2b-267d6f2ef43d",
   "metadata": {},
   "outputs": [
    {
     "data": {
      "text/plain": [
       "['match id',\n",
       " 'bowler',\n",
       " 'bowler_id',\n",
       " 'bowler_details',\n",
       " 'is_bowler_captain',\n",
       " 'is_bowler_keeper',\n",
       " 'inning',\n",
       " 'runs',\n",
       " 'wicket_count',\n",
       " 'balls_bowled',\n",
       " 'economy',\n",
       " 'maiden',\n",
       " 'dots',\n",
       " 'Fours',\n",
       " 'Sixes',\n",
       " 'wides',\n",
       " 'noballs',\n",
       " 'match_dt',\n",
       " 'dot_percentage',\n",
       " 'extras',\n",
       " 'boundary_percentage',\n",
       " 'scaled_boundary',\n",
       " 'boundary_per_ball']"
      ]
     },
     "execution_count": 27,
     "metadata": {},
     "output_type": "execute_result"
    }
   ],
   "source": [
    "bowl_df.columns.to_list()"
   ]
  },
  {
   "cell_type": "code",
   "execution_count": 4,
   "id": "01813c28-eb04-4703-88aa-c7117bd6c7cd",
   "metadata": {},
   "outputs": [],
   "source": [
    "#avg economy\n",
    "ubowl_id = bowl_df.groupby('bowler_id')['economy'].mean().reset_index()\n",
    "\n",
    "# Rename the columns for clarity\n",
    "ubowl_id.columns = ['bowler_id', 'average_economy']"
   ]
  },
  {
   "cell_type": "code",
   "execution_count": 8,
   "id": "c856269c-4407-4da8-b47d-9f08e3585dcd",
   "metadata": {},
   "outputs": [],
   "source": [
    "#avg wkts\n",
    "average_wkts = bowl_df.groupby('bowler_id')['wicket_count'].mean().reset_index()"
   ]
  },
  {
   "cell_type": "code",
   "execution_count": 15,
   "id": "bf7ec735-50cb-4784-a23b-3d9a9025c21a",
   "metadata": {},
   "outputs": [],
   "source": [
    "#avg dot_p\n",
    "average_dot_p = bowl_df.groupby('bowler_id')['dot_percentage'].mean().reset_index()"
   ]
  },
  {
   "cell_type": "code",
   "execution_count": 16,
   "id": "91acd684-b1ba-4444-bdbb-3a9fd865b5e2",
   "metadata": {},
   "outputs": [],
   "source": [
    "#avg extras given\n",
    "average_extras = bowl_df.groupby('bowler_id')['extras'].mean().reset_index()"
   ]
  },
  {
   "cell_type": "code",
   "execution_count": 32,
   "id": "56dcf095-92de-4a2d-ac48-3fae185f2f05",
   "metadata": {},
   "outputs": [
    {
     "data": {
      "text/html": [
       "<div>\n",
       "<style scoped>\n",
       "    .dataframe tbody tr th:only-of-type {\n",
       "        vertical-align: middle;\n",
       "    }\n",
       "\n",
       "    .dataframe tbody tr th {\n",
       "        vertical-align: top;\n",
       "    }\n",
       "\n",
       "    .dataframe thead th {\n",
       "        text-align: right;\n",
       "    }\n",
       "</style>\n",
       "<table border=\"1\" class=\"dataframe\">\n",
       "  <thead>\n",
       "    <tr style=\"text-align: right;\">\n",
       "      <th></th>\n",
       "      <th>bowler_id</th>\n",
       "      <th>extras</th>\n",
       "    </tr>\n",
       "  </thead>\n",
       "  <tbody>\n",
       "    <tr>\n",
       "      <th>0</th>\n",
       "      <td>34061.0</td>\n",
       "      <td>0.795918</td>\n",
       "    </tr>\n",
       "    <tr>\n",
       "      <th>1</th>\n",
       "      <td>37351.0</td>\n",
       "      <td>0.000000</td>\n",
       "    </tr>\n",
       "    <tr>\n",
       "      <th>2</th>\n",
       "      <td>41740.0</td>\n",
       "      <td>0.090909</td>\n",
       "    </tr>\n",
       "    <tr>\n",
       "      <th>3</th>\n",
       "      <td>49496.0</td>\n",
       "      <td>0.384615</td>\n",
       "    </tr>\n",
       "    <tr>\n",
       "      <th>4</th>\n",
       "      <td>55299.0</td>\n",
       "      <td>0.720930</td>\n",
       "    </tr>\n",
       "  </tbody>\n",
       "</table>\n",
       "</div>"
      ],
      "text/plain": [
       "   bowler_id    extras\n",
       "0    34061.0  0.795918\n",
       "1    37351.0  0.000000\n",
       "2    41740.0  0.090909\n",
       "3    49496.0  0.384615\n",
       "4    55299.0  0.720930"
      ]
     },
     "execution_count": 32,
     "metadata": {},
     "output_type": "execute_result"
    }
   ],
   "source": [
    "average_extras.head()"
   ]
  },
  {
   "cell_type": "code",
   "execution_count": 17,
   "id": "c4efbf1b-3195-4438-a35c-24cbd9684ddf",
   "metadata": {},
   "outputs": [],
   "source": [
    "#total maiden\n",
    "maidens = bowl_df.groupby('bowler_id')['maiden'].sum().reset_index()"
   ]
  },
  {
   "cell_type": "code",
   "execution_count": 18,
   "id": "8bb2b8a3-69b9-4fa6-9f6a-db079333af6b",
   "metadata": {},
   "outputs": [],
   "source": [
    "#avg runs given\n",
    "average_runs = bowl_df.groupby('bowler_id')['runs'].mean().reset_index()"
   ]
  },
  {
   "cell_type": "code",
   "execution_count": 21,
   "id": "524dc527-3e11-4018-9ab3-a05d75b1ccdb",
   "metadata": {},
   "outputs": [],
   "source": [
    "#avg boundary percentage\n",
    "average_boundary_p = bowl_df.groupby('bowler_id')['boundary_percentage'].mean().reset_index()"
   ]
  },
  {
   "cell_type": "code",
   "execution_count": 26,
   "id": "2531ca5e-3131-425c-b23c-e614fde0fd77",
   "metadata": {},
   "outputs": [],
   "source": [
    "#avg boundary per ball\n",
    "average_boundary_ball = bowl_df.groupby('bowler_id')['boundary_per_ball'].mean().reset_index()"
   ]
  },
  {
   "cell_type": "code",
   "execution_count": 30,
   "id": "c4292ade-3530-4bd1-9db1-fe45ce8981df",
   "metadata": {},
   "outputs": [],
   "source": [
    "dfs = [ubowl_id, average_wkts, average_dot_p, average_extras, maidens,average_runs,average_boundary_p,average_boundary_ball]\n",
    "\n",
    "# Use functools.reduce to merge the list of DataFrames\n",
    "merged_df = reduce(lambda left, right: pd.merge(left, right, on='bowler_id'), dfs)"
   ]
  },
  {
   "cell_type": "code",
   "execution_count": 31,
   "id": "13ad1cb5-e209-4a87-9e10-2dc67238ead7",
   "metadata": {},
   "outputs": [
    {
     "data": {
      "text/html": [
       "<div>\n",
       "<style scoped>\n",
       "    .dataframe tbody tr th:only-of-type {\n",
       "        vertical-align: middle;\n",
       "    }\n",
       "\n",
       "    .dataframe tbody tr th {\n",
       "        vertical-align: top;\n",
       "    }\n",
       "\n",
       "    .dataframe thead th {\n",
       "        text-align: right;\n",
       "    }\n",
       "</style>\n",
       "<table border=\"1\" class=\"dataframe\">\n",
       "  <thead>\n",
       "    <tr style=\"text-align: right;\">\n",
       "      <th></th>\n",
       "      <th>bowler_id</th>\n",
       "      <th>average_economy</th>\n",
       "      <th>wicket_count</th>\n",
       "      <th>dot_percentage</th>\n",
       "      <th>extras</th>\n",
       "      <th>maiden</th>\n",
       "      <th>runs</th>\n",
       "      <th>boundary_percentage</th>\n",
       "      <th>boundary_per_ball</th>\n",
       "    </tr>\n",
       "  </thead>\n",
       "  <tbody>\n",
       "    <tr>\n",
       "      <th>0</th>\n",
       "      <td>34061.0</td>\n",
       "      <td>9.371429</td>\n",
       "      <td>0.591837</td>\n",
       "      <td>0.288908</td>\n",
       "      <td>0.795918</td>\n",
       "      <td>0</td>\n",
       "      <td>20.061224</td>\n",
       "      <td>0.471042</td>\n",
       "      <td>0.212307</td>\n",
       "    </tr>\n",
       "    <tr>\n",
       "      <th>1</th>\n",
       "      <td>37351.0</td>\n",
       "      <td>10.000000</td>\n",
       "      <td>0.000000</td>\n",
       "      <td>0.000000</td>\n",
       "      <td>0.000000</td>\n",
       "      <td>0</td>\n",
       "      <td>10.000000</td>\n",
       "      <td>0.400000</td>\n",
       "      <td>0.166667</td>\n",
       "    </tr>\n",
       "    <tr>\n",
       "      <th>2</th>\n",
       "      <td>41740.0</td>\n",
       "      <td>6.818182</td>\n",
       "      <td>0.454545</td>\n",
       "      <td>0.382576</td>\n",
       "      <td>0.090909</td>\n",
       "      <td>0</td>\n",
       "      <td>8.363636</td>\n",
       "      <td>0.394910</td>\n",
       "      <td>0.133838</td>\n",
       "    </tr>\n",
       "    <tr>\n",
       "      <th>3</th>\n",
       "      <td>49496.0</td>\n",
       "      <td>6.509615</td>\n",
       "      <td>1.192308</td>\n",
       "      <td>0.359509</td>\n",
       "      <td>0.384615</td>\n",
       "      <td>0</td>\n",
       "      <td>24.307692</td>\n",
       "      <td>0.341819</td>\n",
       "      <td>0.108440</td>\n",
       "    </tr>\n",
       "    <tr>\n",
       "      <th>4</th>\n",
       "      <td>55299.0</td>\n",
       "      <td>8.623721</td>\n",
       "      <td>1.325581</td>\n",
       "      <td>0.333799</td>\n",
       "      <td>0.720930</td>\n",
       "      <td>2</td>\n",
       "      <td>29.046512</td>\n",
       "      <td>0.529136</td>\n",
       "      <td>0.202314</td>\n",
       "    </tr>\n",
       "  </tbody>\n",
       "</table>\n",
       "</div>"
      ],
      "text/plain": [
       "   bowler_id  average_economy  wicket_count  dot_percentage    extras  maiden  \\\n",
       "0    34061.0         9.371429      0.591837        0.288908  0.795918       0   \n",
       "1    37351.0        10.000000      0.000000        0.000000  0.000000       0   \n",
       "2    41740.0         6.818182      0.454545        0.382576  0.090909       0   \n",
       "3    49496.0         6.509615      1.192308        0.359509  0.384615       0   \n",
       "4    55299.0         8.623721      1.325581        0.333799  0.720930       2   \n",
       "\n",
       "        runs  boundary_percentage  boundary_per_ball  \n",
       "0  20.061224             0.471042           0.212307  \n",
       "1  10.000000             0.400000           0.166667  \n",
       "2   8.363636             0.394910           0.133838  \n",
       "3  24.307692             0.341819           0.108440  \n",
       "4  29.046512             0.529136           0.202314  "
      ]
     },
     "execution_count": 31,
     "metadata": {},
     "output_type": "execute_result"
    }
   ],
   "source": [
    "merged_df.head()"
   ]
  },
  {
   "cell_type": "code",
   "execution_count": null,
   "id": "df3b643e-c2d9-4d63-bf05-b01db9c237bf",
   "metadata": {},
   "outputs": [],
   "source": []
  },
  {
   "cell_type": "code",
   "execution_count": null,
   "id": "b7550c11-e850-4ecc-8675-77adf514f97f",
   "metadata": {},
   "outputs": [],
   "source": []
  }
 ],
 "metadata": {
  "kernelspec": {
   "display_name": "Python 3 (ipykernel)",
   "language": "python",
   "name": "python3"
  },
  "language_info": {
   "codemirror_mode": {
    "name": "ipython",
    "version": 3
   },
   "file_extension": ".py",
   "mimetype": "text/x-python",
   "name": "python",
   "nbconvert_exporter": "python",
   "pygments_lexer": "ipython3",
   "version": "3.11.7"
  }
 },
 "nbformat": 4,
 "nbformat_minor": 5
}
