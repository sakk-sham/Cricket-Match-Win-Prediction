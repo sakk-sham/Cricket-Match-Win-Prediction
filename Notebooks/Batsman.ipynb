{
 "cells": [
  {
   "cell_type": "code",
   "execution_count": 1,
   "id": "f8ba064e-74c7-4eca-a9ad-9338d4af4683",
   "metadata": {},
   "outputs": [],
   "source": [
    "import pandas as pd\n",
    "import numpy as np"
   ]
  },
  {
   "cell_type": "code",
   "execution_count": 2,
   "id": "82f07905-0554-43f4-ad0c-a105850cac63",
   "metadata": {},
   "outputs": [],
   "source": [
    "bat_df = pd.read_csv(r'C:\\Users\\sakka\\OneDrive\\Documents\\AMEX\\BATSMAN.csv')"
   ]
  },
  {
   "cell_type": "code",
   "execution_count": 3,
   "id": "8e541c87-3552-46c2-a6fb-f6e5457d25e1",
   "metadata": {},
   "outputs": [
    {
     "data": {
      "text/plain": [
       "['match id',\n",
       " 'batsman',\n",
       " 'batsman_id',\n",
       " 'batsman_details',\n",
       " 'is_batsman_captain',\n",
       " 'is_batsman_keeper',\n",
       " 'inning',\n",
       " 'runs',\n",
       " 'balls_faced',\n",
       " 'over_faced_first',\n",
       " 'wicket kind',\n",
       " 'out_by_bowler',\n",
       " 'out_by_fielder',\n",
       " 'bowler_id',\n",
       " 'bowler_details',\n",
       " 'is_bowler_keeper',\n",
       " 'is_bowler_captain',\n",
       " 'strike_rate',\n",
       " 'Fours',\n",
       " 'Sixes',\n",
       " 'match_dt']"
      ]
     },
     "execution_count": 3,
     "metadata": {},
     "output_type": "execute_result"
    }
   ],
   "source": [
    "bat_df.columns.to_list()"
   ]
  },
  {
   "cell_type": "code",
   "execution_count": 4,
   "id": "a65fa8da-ef92-47eb-b1b5-73d48cc24397",
   "metadata": {},
   "outputs": [],
   "source": [
    "#creating a dataframe that contains all the unique batsman_id\n",
    "ubat_id = pd.DataFrame(bat_df['batsman_id'].unique(), columns=['batsman_id'])"
   ]
  },
  {
   "cell_type": "code",
   "execution_count": 5,
   "id": "9e62f9ea-d6df-41bf-ba1a-6695cf74ae3b",
   "metadata": {},
   "outputs": [],
   "source": [
    "#Some changes in the original dataframe\n",
    "#Add a column of Boundary percentage to the main batsman dataframe\n",
    "bat_df['boundary_runs'] = 4 * bat_df['Fours'] + 6 * bat_df['Sixes']\n",
    "bat_df['boundary_p'] = bat_df['boundary_runs']/bat_df['runs']\n",
    "\n",
    "#Add a column of scaled boundary\n",
    "#Number of Boundaries = 4s + 1.5 * 6s\n",
    "bat_df['scaled_boundaries'] = bat_df['Fours'] + 1.5 * bat_df['Sixes']"
   ]
  },
  {
   "cell_type": "markdown",
   "id": "cce94beb-805d-4913-b579-b7457d0741bd",
   "metadata": {},
   "source": [
    "## Addition of Features in the unique batsman dataframe "
   ]
  },
  {
   "cell_type": "code",
   "execution_count": 6,
   "id": "40e7a155-7294-47e0-8eca-801d164cd5a4",
   "metadata": {},
   "outputs": [],
   "source": [
    "#Add average strike rate of batsman\n",
    "avg_strike_rate_df = bat_df.groupby('batsman_id')['strike_rate'].mean().reset_index()\n",
    "\n",
    "# Rename the strike_rate column to avg_strike_rate\n",
    "avg_strike_rate_df.rename(columns={'strike_rate': 'avg_strike_rate'}, inplace=True)\n",
    "\n",
    "# Merge avg_strike_rate_df with ubat_id based on batsman_id\n",
    "ubat_id = pd.merge(ubat_id, avg_strike_rate_df, on='batsman_id', how='left')"
   ]
  },
  {
   "cell_type": "code",
   "execution_count": 7,
   "id": "4fce4951-25ce-4038-a67a-b7b40668861b",
   "metadata": {},
   "outputs": [],
   "source": [
    "#Add average runs\n",
    "avg_runs_df = bat_df.groupby('batsman_id')['runs'].mean().reset_index()\n",
    "\n",
    "# Rename the strike_rate column to avg_strike_rate\n",
    "avg_runs_df.rename(columns={'runs': 'avg_runs'}, inplace=True)\n",
    "\n",
    "# Merge avg_strike_rate_df with ubat_id based on batsman_id\n",
    "ubat_id = pd.merge(ubat_id, avg_runs_df, on='batsman_id', how='left')"
   ]
  },
  {
   "cell_type": "code",
   "execution_count": 8,
   "id": "62e83a23-67a3-4e71-976d-39a160185775",
   "metadata": {},
   "outputs": [],
   "source": [
    "#Add total runs column\n",
    "total_runs_df = bat_df.groupby('batsman_id')['runs'].sum().reset_index()\n",
    "\n",
    "# Rename the runs column to total_runs\n",
    "total_runs_df.rename(columns={'runs': 'total_runs'}, inplace=True)\n",
    "\n",
    "# Merge total_runs_df with ubat_id based on batsman_id\n",
    "ubat_id = pd.merge(ubat_id, total_runs_df, on='batsman_id', how='left')"
   ]
  },
  {
   "cell_type": "code",
   "execution_count": 9,
   "id": "6214348b-769f-4544-b721-63c5b4760e4d",
   "metadata": {},
   "outputs": [],
   "source": [
    "#Add a column of Total scaled boundaries\n",
    "total_scaled_boundaries_df = bat_df.groupby('batsman_id')['scaled_boundaries'].sum().reset_index()\n",
    "\n",
    "# Rename the runs column to total_runs\n",
    "total_scaled_boundaries_df.rename(columns={'scaled_boundaries': 'total_scaled_boundaries'}, inplace=True)\n",
    "\n",
    "# Merge total_runs_df with ubat_id based on batsman_id\n",
    "ubat_id = pd.merge(ubat_id, total_scaled_boundaries_df, on='batsman_id', how='left')"
   ]
  },
  {
   "cell_type": "code",
   "execution_count": 10,
   "id": "94e3a1d0-51c6-4cd4-8cd6-3dad28170413",
   "metadata": {},
   "outputs": [],
   "source": [
    "#Add average boundary percentage\n",
    "avg_boundary_p_df = bat_df.groupby('batsman_id')['boundary_p'].mean().reset_index()\n",
    "\n",
    "# Rename the strike_rate column to avg_strike_rate\n",
    "avg_boundary_p_df.rename(columns={'boundary_p': 'avg_boundary_p'}, inplace=True)\n",
    "\n",
    "# Merge avg_strike_rate_df with ubat_id based on batsman_id\n",
    "ubat_id = pd.merge(ubat_id, avg_boundary_p_df, on='batsman_id', how='left')"
   ]
  },
  {
   "cell_type": "code",
   "execution_count": 11,
   "id": "b3f39a45-ba7b-4136-99da-17296245280a",
   "metadata": {},
   "outputs": [
    {
     "data": {
      "text/html": [
       "<div>\n",
       "<style scoped>\n",
       "    .dataframe tbody tr th:only-of-type {\n",
       "        vertical-align: middle;\n",
       "    }\n",
       "\n",
       "    .dataframe tbody tr th {\n",
       "        vertical-align: top;\n",
       "    }\n",
       "\n",
       "    .dataframe thead th {\n",
       "        text-align: right;\n",
       "    }\n",
       "</style>\n",
       "<table border=\"1\" class=\"dataframe\">\n",
       "  <thead>\n",
       "    <tr style=\"text-align: right;\">\n",
       "      <th></th>\n",
       "      <th>batsman_id</th>\n",
       "      <th>avg_strike_rate</th>\n",
       "      <th>avg_runs</th>\n",
       "      <th>total_runs</th>\n",
       "      <th>total_scaled_boundaries</th>\n",
       "      <th>avg_boundary_p</th>\n",
       "    </tr>\n",
       "  </thead>\n",
       "  <tbody>\n",
       "    <tr>\n",
       "      <th>0</th>\n",
       "      <td>7907451.0</td>\n",
       "      <td>144.234000</td>\n",
       "      <td>24.700000</td>\n",
       "      <td>494</td>\n",
       "      <td>68.0</td>\n",
       "      <td>0.727603</td>\n",
       "    </tr>\n",
       "    <tr>\n",
       "      <th>1</th>\n",
       "      <td>4381761.0</td>\n",
       "      <td>108.043385</td>\n",
       "      <td>22.661538</td>\n",
       "      <td>1473</td>\n",
       "      <td>167.5</td>\n",
       "      <td>0.681782</td>\n",
       "    </tr>\n",
       "    <tr>\n",
       "      <th>2</th>\n",
       "      <td>4949790.0</td>\n",
       "      <td>89.676667</td>\n",
       "      <td>13.266667</td>\n",
       "      <td>199</td>\n",
       "      <td>19.5</td>\n",
       "      <td>0.711346</td>\n",
       "    </tr>\n",
       "    <tr>\n",
       "      <th>3</th>\n",
       "      <td>3834305.0</td>\n",
       "      <td>100.846667</td>\n",
       "      <td>12.583333</td>\n",
       "      <td>151</td>\n",
       "      <td>3.5</td>\n",
       "      <td>0.560000</td>\n",
       "    </tr>\n",
       "    <tr>\n",
       "      <th>4</th>\n",
       "      <td>3776849.0</td>\n",
       "      <td>127.727222</td>\n",
       "      <td>12.111111</td>\n",
       "      <td>218</td>\n",
       "      <td>17.5</td>\n",
       "      <td>0.688491</td>\n",
       "    </tr>\n",
       "  </tbody>\n",
       "</table>\n",
       "</div>"
      ],
      "text/plain": [
       "   batsman_id  avg_strike_rate   avg_runs  total_runs  \\\n",
       "0   7907451.0       144.234000  24.700000         494   \n",
       "1   4381761.0       108.043385  22.661538        1473   \n",
       "2   4949790.0        89.676667  13.266667         199   \n",
       "3   3834305.0       100.846667  12.583333         151   \n",
       "4   3776849.0       127.727222  12.111111         218   \n",
       "\n",
       "   total_scaled_boundaries  avg_boundary_p  \n",
       "0                     68.0        0.727603  \n",
       "1                    167.5        0.681782  \n",
       "2                     19.5        0.711346  \n",
       "3                      3.5        0.560000  \n",
       "4                     17.5        0.688491  "
      ]
     },
     "execution_count": 11,
     "metadata": {},
     "output_type": "execute_result"
    }
   ],
   "source": [
    "ubat_id.head()"
   ]
  },
  {
   "cell_type": "code",
   "execution_count": null,
   "id": "cf8d3fc7-2bd1-4951-8f5e-501b362ff6ba",
   "metadata": {},
   "outputs": [],
   "source": []
  }
 ],
 "metadata": {
  "kernelspec": {
   "display_name": "Python 3 (ipykernel)",
   "language": "python",
   "name": "python3"
  },
  "language_info": {
   "codemirror_mode": {
    "name": "ipython",
    "version": 3
   },
   "file_extension": ".py",
   "mimetype": "text/x-python",
   "name": "python",
   "nbconvert_exporter": "python",
   "pygments_lexer": "ipython3",
   "version": "3.11.7"
  }
 },
 "nbformat": 4,
 "nbformat_minor": 5
}
