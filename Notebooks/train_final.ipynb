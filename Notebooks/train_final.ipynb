{
 "cells": [
  {
   "cell_type": "code",
   "execution_count": 1,
   "id": "8dda50c9-e000-4033-a43c-4b37f5496b81",
   "metadata": {},
   "outputs": [],
   "source": [
    "import numpy as np\n",
    "import pandas as pd\n",
    "from sklearn.model_selection import train_test_split\n",
    "from xgboost import XGBClassifier\n",
    "from sklearn.metrics import accuracy_score\n",
    "from catboost import CatBoostClassifier\n",
    "import lightgbm as lgb"
   ]
  },
  {
   "cell_type": "code",
   "execution_count": 7,
   "id": "e1a60375-fa39-4b6a-8064-6349a0b084bf",
   "metadata": {},
   "outputs": [],
   "source": [
    "train_df = pd.read_csv(r'C:\\Users\\sakka\\OneDrive\\Documents\\AMEX\\testing.csv')\n",
    "testing = pd.read_csv(r'C:\\Users\\sakka\\OneDrive\\Documents\\AMEX\\testing.csv')\n",
    "uteam_id = pd.read_csv(r\"C:\\Users\\sakka\\OneDrive\\Documents\\AMEX\\unique_team_features.csv\")\n",
    "ubat_id = pd.read_csv(r'C:\\Users\\sakka\\OneDrive\\Documents\\AMEX\\unique_batsman_features.csv')"
   ]
  },
  {
   "cell_type": "code",
   "execution_count": 182,
   "id": "3fed42b9-e318-49f7-8368-cdcd4fe19bbf",
   "metadata": {},
   "outputs": [],
   "source": [
    "ubowl_id = pd.read_csv(r\"C:\\Users\\sakka\\OneDrive\\Documents\\AMEX\\unique_bowler_features.csv\")"
   ]
  },
  {
   "cell_type": "code",
   "execution_count": 109,
   "id": "3e34cae3-54b1-4d45-8dbd-ad18743e9e85",
   "metadata": {},
   "outputs": [],
   "source": [
    "test_df = pd.read_csv(r\"C:\\Users\\sakka\\OneDrive\\Documents\\AMEX\\test_updated1.csv\")"
   ]
  },
  {
   "cell_type": "code",
   "execution_count": 138,
   "id": "1cb72504-0bdc-4aab-b14f-46233af173d8",
   "metadata": {},
   "outputs": [],
   "source": [
    "sub_df = pd.read_csv(r\"C:\\Users\\sakka\\OneDrive\\Documents\\AMEX\\submission_template_file1.csv\")"
   ]
  },
  {
   "cell_type": "code",
   "execution_count": 170,
   "id": "96ecdd11-3e38-48c5-b75a-8a27c8ecaadd",
   "metadata": {},
   "outputs": [],
   "source": [
    "sub2_df = pd.read_csv(r\"C:\\Users\\sakka\\OneDrive\\Documents\\AMEX\\submitted file\\submission_template_file2.csv\")"
   ]
  },
  {
   "cell_type": "markdown",
   "id": "3dbed8c8-d675-42bc-a28e-d7f0e95ab273",
   "metadata": {},
   "source": [
    "# Feature Engineering"
   ]
  },
  {
   "cell_type": "code",
   "execution_count": 9,
   "id": "7b5e00c2-f2b9-469e-b7d4-ff22aa126f34",
   "metadata": {},
   "outputs": [],
   "source": [
    "#Encoding for toss and win\n",
    "train_df['team1_win'] = train_df.apply(lambda row: 1 if row['winner_id'] == row['team1_id'] else 0, axis=1)\n",
    "train_df['team1_toss_win'] = train_df.apply(lambda row: 1 if row['toss_winner_id'] == row['team1_id'] else 0, axis=1)"
   ]
  },
  {
   "cell_type": "markdown",
   "id": "3a311215-9290-4314-861e-5e7f11b2e6a6",
   "metadata": {},
   "source": [
    "## Batting Features"
   ]
  },
  {
   "cell_type": "markdown",
   "id": "9fcfd0b2-7ac1-4c7a-82fa-a73e423d8ad0",
   "metadata": {},
   "source": [
    "### Average Strike Rate of Team"
   ]
  },
  {
   "cell_type": "code",
   "execution_count": 28,
   "id": "2ae64c90-bddd-4dc7-aa7b-ee068f360d6e",
   "metadata": {},
   "outputs": [],
   "source": [
    "# Convert the roster IDs from strings to floats for mapping\n",
    "testing['team1_bat_roster_ids'] = testing['team1_bat_roster_ids'].apply(lambda x: list(map(float, x)))\n",
    "testing['team2_bat_roster_ids'] = testing['team2_bat_roster_ids'].apply(lambda x: list(map(float, x)))\n",
    "\n",
    "# Create a dictionary for quick lookup of batting indexes\n",
    "sr_dict = ubat_id.set_index('batsman_id')['avg_strike_rate'].to_dict()\n",
    "\n",
    "# Function to calculate the average batting index for a given roster\n",
    "def calculate_average_strike_rate(roster_ids):\n",
    "    if not roster_ids:\n",
    "        return 0\n",
    "    total_sr = sum(sr_dict.get(player_id, 0) for player_id in roster_ids)\n",
    "    return total_sr / len(roster_ids)\n",
    "\n",
    "# Apply the function to each team's roster to get the average batting strength\n",
    "testing['team1_sr'] = testing['team1_bat_roster_ids'].apply(calculate_average_strike_rate)\n",
    "testing['team2_sr'] = testing['team2_bat_roster_ids'].apply(calculate_average_strike_rate)"
   ]
  },
  {
   "cell_type": "code",
   "execution_count": 34,
   "id": "f9ea3622-51ea-493a-a535-f0edcc1e6976",
   "metadata": {},
   "outputs": [],
   "source": [
    "testing['sr_ratio'] = testing['team1_sr']/testing['team2_sr']"
   ]
  },
  {
   "cell_type": "markdown",
   "id": "2d89900e-440f-4f73-9dee-8683465274ea",
   "metadata": {},
   "source": [
    "### Average Player Runs of Team\n"
   ]
  },
  {
   "cell_type": "code",
   "execution_count": 65,
   "id": "30eee9a5-3733-41a4-af54-dc260573c147",
   "metadata": {},
   "outputs": [],
   "source": [
    "# Convert the roster IDs from strings to floats for mapping\n",
    "testing['team1_bat_roster_ids'] = testing['team1_bat_roster_ids'].apply(lambda x: list(map(float, x)))\n",
    "testing['team2_bat_roster_ids'] = testing['team2_bat_roster_ids'].apply(lambda x: list(map(float, x)))\n",
    "\n",
    "# Create a dictionary for quick lookup of batting indexes\n",
    "runs_dict = ubat_id.set_index('batsman_id')['avg_runs'].to_dict()\n",
    "\n",
    "# Function to calculate the average batting index for a given roster\n",
    "def calculate_average_runs(roster_ids):\n",
    "    if not roster_ids:\n",
    "        return 0\n",
    "    total_runs = sum(runs_dict.get(player_id, 0) for player_id in roster_ids)\n",
    "    return total_runs / len(roster_ids)\n",
    "\n",
    "# Apply the function to each team's roster to get the average batting strength\n",
    "testing['team1_player_runs'] = testing['team1_bat_roster_ids'].apply(calculate_average_runs)\n",
    "testing['team2_player_runs'] = testing['team2_bat_roster_ids'].apply(calculate_average_runs)"
   ]
  },
  {
   "cell_type": "code",
   "execution_count": 36,
   "id": "841d26b2-13a0-4d26-ad0d-63a4cf4af06b",
   "metadata": {},
   "outputs": [],
   "source": [
    "testing['avg_player_runs_ratio'] = testing['team1_runs']/testing['team2_runs']"
   ]
  },
  {
   "cell_type": "markdown",
   "id": "ab7c794d-4e25-49bd-86fd-621c919b3814",
   "metadata": {},
   "source": [
    "### Average Boundary Percentage of Players"
   ]
  },
  {
   "cell_type": "code",
   "execution_count": 17,
   "id": "5e4bffee-f360-4d20-ae26-c6ce0816b42f",
   "metadata": {},
   "outputs": [],
   "source": [
    "ubat_id = pd.read_csv(r'C:\\Users\\sakka\\OneDrive\\Documents\\AMEX\\unique_batsman_features.csv')\n",
    "testing = pd.read_csv(r\"C:\\Users\\sakka\\OneDrive\\Documents\\AMEX\\testing.csv\")\n",
    "\n",
    "# Split the roster ID strings into lists of individual IDs\n",
    "testing['team1_bat_roster_ids'] = testing['team1_bat_roster_ids'].str.split(':')\n",
    "testing['team2_bat_roster_ids'] = testing['team2_bat_roster_ids'].str.split(':')\n",
    "\n",
    "# Convert the roster IDs from strings to floats for mapping\n",
    "testing['team1_bat_roster_ids'] = testing['team1_bat_roster_ids'].apply(lambda x: list(map(float, x)))\n",
    "testing['team2_bat_roster_ids'] = testing['team2_bat_roster_ids'].apply(lambda x: list(map(float, x)))\n",
    "\n",
    "# Create a dictionary for quick lookup of batting indexes\n",
    "boundaryp_dict = ubat_id.set_index('batsman_id')['avg_boundary_p'].to_dict()\n",
    "\n",
    "# Function to calculate the average batting index for a given roster\n",
    "def calculate_average_bp(roster_ids):\n",
    "    if not roster_ids:\n",
    "        return 0\n",
    "    total_boundary_p = sum(boundaryp_dict.get(player_id, 0) for player_id in roster_ids)\n",
    "    return total_boundary_p / len(roster_ids)\n",
    "\n",
    "# Apply the function to each team's roster to get the average batting strength\n",
    "testing['team1_avg_bp'] = testing['team1_bat_roster_ids'].apply(calculate_average_bp)\n",
    "testing['team2_avg_bp'] = testing['team2_bat_roster_ids'].apply(calculate_average_bp)"
   ]
  },
  {
   "cell_type": "code",
   "execution_count": 37,
   "id": "a2357867-1aa4-4b66-90df-0bbc7819cffb",
   "metadata": {},
   "outputs": [],
   "source": [
    "testing['avg_bp_ratio'] = testing['team1_avg_bp']/testing['team2_avg_bp']"
   ]
  },
  {
   "cell_type": "code",
   "execution_count": 43,
   "id": "59ec0eb8-db11-4668-9b22-acce952d0016",
   "metadata": {},
   "outputs": [
    {
     "data": {
      "text/plain": [
       "1"
      ]
     },
     "execution_count": 43,
     "metadata": {},
     "output_type": "execute_result"
    }
   ],
   "source": [
    "#infinite ratio problem\n",
    "(testing['avg_bp_ratio'] > 50).sum()"
   ]
  },
  {
   "cell_type": "code",
   "execution_count": 45,
   "id": "655de5e3-c6c2-44d4-a3e1-50846f726169",
   "metadata": {},
   "outputs": [],
   "source": [
    "testing.loc[testing['avg_bp_ratio'] > 50, 'avg_bp_ratio'] = 2"
   ]
  },
  {
   "cell_type": "markdown",
   "id": "a4418d20-f269-4908-956d-4c7a87faf245",
   "metadata": {},
   "source": [
    "### Total Runs of the players of Team"
   ]
  },
  {
   "cell_type": "code",
   "execution_count": 31,
   "id": "80d94910-4bc9-42fd-afe5-acf21a772842",
   "metadata": {},
   "outputs": [],
   "source": [
    "# Convert the roster IDs from strings to floats for mapping\n",
    "testing['team1_bat_roster_ids'] = testing['team1_bat_roster_ids'].apply(lambda x: list(map(float, x)))\n",
    "testing['team2_bat_roster_ids'] = testing['team2_bat_roster_ids'].apply(lambda x: list(map(float, x)))\n",
    "\n",
    "# Create a dictionary for quick lookup of batting indexes\n",
    "truns_dict = ubat_id.set_index('batsman_id')['total_runs'].to_dict()\n",
    "\n",
    "# Function to calculate the average batting index for a given roster\n",
    "def calculate_average_truns(roster_ids):\n",
    "    if not roster_ids:\n",
    "        return 0\n",
    "    total_truns = sum(truns_dict.get(player_id, 0) for player_id in roster_ids)\n",
    "    return total_truns / len(roster_ids)\n",
    "\n",
    "# Apply the function to each team's roster to get the average batting strength\n",
    "testing['team1_avg_truns'] = testing['team1_bat_roster_ids'].apply(calculate_average_truns)\n",
    "testing['team2_avg_truns'] = testing['team2_bat_roster_ids'].apply(calculate_average_truns)"
   ]
  },
  {
   "cell_type": "code",
   "execution_count": 39,
   "id": "b06183f5-e9fe-48da-b8ce-9e7054bac551",
   "metadata": {},
   "outputs": [],
   "source": [
    "testing['avg_truns_ratio'] = testing['team1_avg_truns']/testing['team2_avg_truns']"
   ]
  },
  {
   "cell_type": "markdown",
   "id": "4d171ec4-8e17-4eb3-b26c-3cb7d1f4d25a",
   "metadata": {},
   "source": [
    "### Avg Batting Index of the Team"
   ]
  },
  {
   "cell_type": "code",
   "execution_count": 193,
   "id": "c333eef6-f52d-43eb-b130-23744fa08f7c",
   "metadata": {},
   "outputs": [],
   "source": [
    "# Convert the roster IDs from strings to floats for mapping\n",
    "testing['team1_bat_roster_ids'] = testing['team1_bat_roster_ids'].apply(lambda x: list(map(float, x)))\n",
    "testing['team2_bat_roster_ids'] = testing['team2_bat_roster_ids'].apply(lambda x: list(map(float, x)))\n",
    "\n",
    "# Create a dictionary for quick lookup of batting indexes\n",
    "bat_idx_dict = ubat_id.set_index('batsman_id')['batting_index2'].to_dict()\n",
    "\n",
    "# Function to calculate the average batting index for a given roster\n",
    "def calculate_average_bat_idx(roster_ids):\n",
    "    if not roster_ids:\n",
    "        return 0\n",
    "    total_bat_idxs = sum(bat_idx_dict.get(player_id, 0) for player_id in roster_ids)\n",
    "    return total_bat_idxs / len(roster_ids)\n",
    "\n",
    "# Apply the function to each team's roster to get the average batting strength\n",
    "testing['team1_avg_bat_idx'] = testing['team1_bat_roster_ids'].apply(calculate_average_bat_idx)\n",
    "testing['team2_avg_bat_idx'] = testing['team2_bat_roster_ids'].apply(calculate_average_bat_idx)"
   ]
  },
  {
   "cell_type": "code",
   "execution_count": 194,
   "id": "c63060c0-5e7e-4267-bf6d-4c6b27d0bc00",
   "metadata": {},
   "outputs": [],
   "source": [
    "testing['bat_idx_ratio'] = testing['team1_avg_bat_idx']/testing['team2_avg_bat_idx']"
   ]
  },
  {
   "cell_type": "markdown",
   "id": "4384e03e-b484-485b-8ef1-e4e1d1e2cda8",
   "metadata": {},
   "source": [
    "### Avg Total Boundaries of the players in the Team"
   ]
  },
  {
   "cell_type": "code",
   "execution_count": 32,
   "id": "b229f668-66e4-40bb-a957-75fce7922eb3",
   "metadata": {},
   "outputs": [],
   "source": [
    "# Convert the roster IDs from strings to floats for mapping\n",
    "testing['team1_bat_roster_ids'] = testing['team1_bat_roster_ids'].apply(lambda x: list(map(float, x)))\n",
    "testing['team2_bat_roster_ids'] = testing['team2_bat_roster_ids'].apply(lambda x: list(map(float, x)))\n",
    "\n",
    "# Create a dictionary for quick lookup of batting indexes\n",
    "tb_dict = ubat_id.set_index('batsman_id')['total_scaled_boundaries'].to_dict()\n",
    "\n",
    "# Function to calculate the average batting index for a given roster\n",
    "def calculate_average_tb(roster_ids):\n",
    "    if not roster_ids:\n",
    "        return 0\n",
    "    total_tb = sum(tb_dict.get(player_id, 0) for player_id in roster_ids)\n",
    "    return total_tb / len(roster_ids)\n",
    "\n",
    "# Apply the function to each team's roster to get the average batting strength\n",
    "testing['team1_avg_tb'] = testing['team1_bat_roster_ids'].apply(calculate_average_tb)\n",
    "testing['team2_avg_tb'] = testing['team2_bat_roster_ids'].apply(calculate_average_tb)"
   ]
  },
  {
   "cell_type": "code",
   "execution_count": 40,
   "id": "49293292-2405-4530-a59b-fcf57765ac0d",
   "metadata": {},
   "outputs": [],
   "source": [
    "testing['avg_tb_ratio'] = testing['team1_avg_tb']/testing['team2_avg_tb']"
   ]
  },
  {
   "cell_type": "code",
   "execution_count": 47,
   "id": "2f667cd4-7fe4-477e-8614-cd2336ab0747",
   "metadata": {},
   "outputs": [
    {
     "data": {
      "text/plain": [
       "1"
      ]
     },
     "execution_count": 47,
     "metadata": {},
     "output_type": "execute_result"
    }
   ],
   "source": [
    "#infinite ratio problem\n",
    "(testing['avg_tb_ratio'] > 50).sum()"
   ]
  },
  {
   "cell_type": "code",
   "execution_count": 48,
   "id": "cbec498e-9ec0-47e6-8410-9b34e7773ba8",
   "metadata": {},
   "outputs": [],
   "source": [
    "testing.loc[testing['avg_tb_ratio'] > 50, 'avg_tb_ratio'] = 2"
   ]
  },
  {
   "cell_type": "markdown",
   "id": "fa71bc40-0fd3-4b46-a9f4-768e42c5c1df",
   "metadata": {},
   "source": [
    "## Bowling Features"
   ]
  },
  {
   "cell_type": "markdown",
   "id": "255b35b8-bf5d-474e-bf75-e8dc12930116",
   "metadata": {},
   "source": [
    "### Average Economy"
   ]
  },
  {
   "cell_type": "code",
   "execution_count": null,
   "id": "dc2a23fd-cf0f-4cd8-9319-bf18498a4ae5",
   "metadata": {},
   "outputs": [],
   "source": []
  },
  {
   "cell_type": "markdown",
   "id": "7ef5ab55-b14e-4336-8c00-e264a7831722",
   "metadata": {},
   "source": [
    "### Loading Team features "
   ]
  },
  {
   "cell_type": "code",
   "execution_count": 73,
   "id": "d86bb61b-9259-4f78-a114-49c8467281f7",
   "metadata": {},
   "outputs": [],
   "source": [
    "#for team1\n",
    "testing = testing.merge(uteam_id, how='left', left_on='team1_id', right_on='team_id')\n",
    "\n",
    "# Rename the team_runs column to team1_runs and drop the team_id column\n",
    "testing.rename(columns={'team_runs': 'team1_runs','team_wickets': 'team1_wickets','avg_rr': 'team1_avg_rr','winp':'team1_winp',\n",
    "                        'avg_win_runs':'team1_avg_win_runs','avg_win_wkts':'team1_avg_win_wkts'}, inplace=True)\n",
    "testing.drop(columns=['team_id'], inplace=True)"
   ]
  },
  {
   "cell_type": "code",
   "execution_count": 74,
   "id": "cceabf46-31d0-4aac-be56-9c47eeb73be6",
   "metadata": {},
   "outputs": [],
   "source": [
    "#for team2\n",
    "testing = testing.merge(uteam_id, how='left', left_on='team2_id', right_on='team_id')\n",
    "\n",
    "# Rename the team_runs column to team1_runs and drop the team_id column\n",
    "testing.rename(columns={'team_runs': 'team2_runs','team_wickets': 'team2_wickets','avg_rr': 'team2_avg_rr','winp':'team2_winp',\n",
    "                        'avg_win_runs':'team2_avg_win_runs','avg_win_wkts':'team2_avg_win_wkts'}, inplace=True)\n",
    "testing.drop(columns=['team_id'], inplace=True)"
   ]
  },
  {
   "cell_type": "code",
   "execution_count": 75,
   "id": "99c5d226-6581-4136-bf10-aa8c5566e56f",
   "metadata": {},
   "outputs": [],
   "source": [
    "#Adding the ratios\n",
    "\n",
    "#team_runs_ratio\n",
    "testing['team_runs_ratio'] = testing['team1_runs'] / testing['team2_runs']\n",
    "testing['team_runs_ratio'] = np.where(testing['team1_runs'].isna() | testing['team2_runs'].isna(), np.nan, testing['team_runs_ratio'])\n",
    "\n",
    "#team winp_ratio\n",
    "testing['winp_ratio'] = testing['team1_winp'] / testing['team2_winp']\n",
    "testing['winp_ratio'] = np.where(testing['team1_winp'].isna() | testing['team2_winp'].isna(), np.nan, testing['winp_ratio'])\n",
    "\n",
    "#team win_runs_ratio\n",
    "testing['win_runs_ratio'] = testing['team1_avg_win_runs'] / testing['team2_avg_win_runs']\n",
    "testing['win_runs_ratio'] = np.where(testing['team1_avg_win_runs'].isna() | testing['team2_avg_win_runs'].isna(), np.nan, testing['win_runs_ratio'])\n",
    "\n",
    "#team win_wkts_ratio\n",
    "testing['win_wkts_ratio'] = testing['team1_avg_win_wkts'] / testing['team2_avg_win_wkts']\n",
    "testing['win_wkts_ratio'] = np.where(testing['team1_avg_win_wkts'].isna() | testing['team2_avg_win_wkts'].isna(), np.nan, testing['win_wkts_ratio'])\n",
    "\n",
    "#team rr_ratio\n",
    "testing['rr_ratio'] = testing['team1_avg_rr'] / testing['team2_avg_rr']\n",
    "testing['rr_ratio'] = np.where(testing['team1_avg_rr'].isna() | testing['team2_avg_rr'].isna(), np.nan, testing['rr_ratio'])\n",
    "\n",
    "#team wkt_ratio\n",
    "testing['wkt_ratio'] = testing['team2_wickets'] / testing['team1_wickets']\n",
    "testing['wkt_ratio'] = np.where(testing['team1_wickets'].isna() | testing['team2_wickets'].isna(), np.nan, testing['wkt_ratio'])"
   ]
  },
  {
   "cell_type": "code",
   "execution_count": 196,
   "id": "14ab5ce7-9d9d-4023-89ce-9669da57c0cc",
   "metadata": {},
   "outputs": [
    {
     "data": {
      "text/plain": [
       "['match_id',\n",
       " 'team1_id',\n",
       " 'team1_roster_ids',\n",
       " 'team2_id',\n",
       " 'team2_roster_ids',\n",
       " 'winner_id',\n",
       " 'venue',\n",
       " 'city',\n",
       " 'series_name',\n",
       " 'ground_id',\n",
       " 'team_count_50runs_last15',\n",
       " 'team_winp_last5',\n",
       " 'team1only_avg_runs_last15',\n",
       " 'team1_winp_team2_last15',\n",
       " 'ground_avg_runs_last15',\n",
       " 'year',\n",
       " 'toss_decision_bat',\n",
       " 'toss_decision_field',\n",
       " 'toss_winner_id',\n",
       " 'team1_bat_roster_ids',\n",
       " 'team2_bat_roster_ids',\n",
       " 'team1_bowl_roster_ids',\n",
       " 'team2_bowl_roster_ids',\n",
       " 'team1_avg_bp',\n",
       " 'team2_avg_bp',\n",
       " 'team1_sr',\n",
       " 'team2_sr',\n",
       " 'team1_avg_truns',\n",
       " 'team2_avg_truns',\n",
       " 'team1_avg_tb',\n",
       " 'team2_avg_tb',\n",
       " 'sr_ratio',\n",
       " 'avg_player_runs_ratio',\n",
       " 'avg_bp_ratio',\n",
       " 'avg_truns_ratio',\n",
       " 'avg_tb_ratio',\n",
       " 'team1_runs',\n",
       " 'team1_wickets',\n",
       " 'team1_avg_rr',\n",
       " 'team1_winp',\n",
       " 'team1_avg_win_runs',\n",
       " 'team1_avg_win_wkts',\n",
       " 'team2_runs',\n",
       " 'team2_wickets',\n",
       " 'team2_avg_rr',\n",
       " 'team2_winp',\n",
       " 'team2_avg_win_runs',\n",
       " 'team2_avg_win_wkts',\n",
       " 'team_runs_ratio',\n",
       " 'winp_ratio',\n",
       " 'win_runs_ratio',\n",
       " 'win_wkts_ratio',\n",
       " 'rr_ratio',\n",
       " 'wkt_ratio',\n",
       " 'team1_avg_bat_idx',\n",
       " 'team2_avg_bat_idx',\n",
       " 'bat_idx_ratio']"
      ]
     },
     "execution_count": 196,
     "metadata": {},
     "output_type": "execute_result"
    }
   ],
   "source": [
    "testing.columns.to_list()"
   ]
  },
  {
   "cell_type": "code",
   "execution_count": 77,
   "id": "f9b77ee5-f3d6-4e72-937c-79d79d6bc419",
   "metadata": {},
   "outputs": [],
   "source": [
    "#drop the unnecessary columns\n",
    "testing.drop(columns = ['team_balls_x','avg_overs_x','matches_x','wins_x','total_win_runs_x','total_win_wkts_x','match_win_runs_x','match_win_wkts_x',\n",
    "                        'team_balls_y','avg_overs_y','matches_y','wins_y','total_win_runs_y','total_win_wkts_y','match_win_runs_y','match_win_wkts_y'], \n",
    "             inplace = True)"
   ]
  },
  {
   "cell_type": "markdown",
   "id": "d803458b-17f9-42d2-bd00-92ed0180087a",
   "metadata": {},
   "source": [
    "### Merge with the train_df"
   ]
  },
  {
   "cell_type": "code",
   "execution_count": 97,
   "id": "bc851334-c5aa-48d6-bfcd-93f70c9b4714",
   "metadata": {},
   "outputs": [],
   "source": [
    "columns_to_merge = ['match_id','sr_ratio','avg_player_runs_ratio','avg_bp_ratio','avg_truns_ratio','avg_tb_ratio','team_runs_ratio','winp_ratio','win_runs_ratio',\n",
    "                    'win_wkts_ratio','rr_ratio','wkt_ratio']\n",
    "\n",
    "# Merge the DataFrames on 'match_id'\n",
    "train_df = pd.merge(train_df, testing[columns_to_merge], on='match_id', how='left')"
   ]
  },
  {
   "cell_type": "code",
   "execution_count": 108,
   "id": "c4c5284a-20d5-4088-878f-5a41f64abc3d",
   "metadata": {},
   "outputs": [
    {
     "data": {
      "text/plain": [
       "['match_id',\n",
       " 'team1_id',\n",
       " 'team1_roster_ids',\n",
       " 'team2_id',\n",
       " 'team2_roster_ids',\n",
       " 'winner_id',\n",
       " 'venue',\n",
       " 'city',\n",
       " 'series_name',\n",
       " 'ground_id',\n",
       " 'team_count_50runs_last15',\n",
       " 'team_winp_last5',\n",
       " 'team1only_avg_runs_last15',\n",
       " 'team1_winp_team2_last15',\n",
       " 'ground_avg_runs_last15',\n",
       " 'year',\n",
       " 'toss_decision_bat',\n",
       " 'toss_decision_field',\n",
       " 'toss_winner_id',\n",
       " 'team1_bat_roster_ids',\n",
       " 'team2_bat_roster_ids',\n",
       " 'team1_bowl_roster_ids',\n",
       " 'team2_bowl_roster_ids',\n",
       " 'team1_win',\n",
       " 'team1_toss_win',\n",
       " 'sr_ratio',\n",
       " 'avg_player_runs_ratio',\n",
       " 'avg_bp_ratio',\n",
       " 'avg_truns_ratio',\n",
       " 'avg_tb_ratio',\n",
       " 'team_runs_ratio',\n",
       " 'winp_ratio',\n",
       " 'win_runs_ratio',\n",
       " 'win_wkts_ratio',\n",
       " 'rr_ratio',\n",
       " 'wkt_ratio',\n",
       " 'team1_win_pred',\n",
       " 'win_pred_team_id',\n",
       " 'win_pred_score']"
      ]
     },
     "execution_count": 108,
     "metadata": {},
     "output_type": "execute_result"
    }
   ],
   "source": [
    "train_df.columns.to_list()"
   ]
  },
  {
   "cell_type": "markdown",
   "id": "3a5c0724-2d1f-4cf6-9130-9cb101508015",
   "metadata": {},
   "source": [
    "## Applying Catboost Model"
   ]
  },
  {
   "cell_type": "code",
   "execution_count": 103,
   "id": "14d064f7-8bf2-4fe7-a230-66f99f01b47c",
   "metadata": {},
   "outputs": [
    {
     "name": "stdout",
     "output_type": "stream",
     "text": [
      "Accuracy: 0.7052631578947368\n"
     ]
    }
   ],
   "source": [
    "X = train_df.drop(columns=['match_id','team1_id','team1_roster_ids','team2_id','team2_roster_ids','winner_id','venue','city','series_name','ground_id',\n",
    "                           'team1only_avg_runs_last15','ground_avg_runs_last15','year','toss_decision_bat','toss_decision_field','toss_winner_id',\n",
    "                           'team1_bat_roster_ids','team2_bat_roster_ids','team1_bowl_roster_ids','team2_bowl_roster_ids','team1_win'])\n",
    "y = train_df['team1_win']  # Target variable\n",
    "\n",
    "# 2. Train-Test Split\n",
    "X_train, X_test, y_train, y_test = train_test_split(X, y, test_size=0.2, random_state=42)\n",
    "\n",
    "model = CatBoostClassifier(iterations=1000, learning_rate=0.1, depth=6, loss_function='Logloss')\n",
    "\n",
    "# Train the model\n",
    "model.fit(X_train, y_train, eval_set=(X_test, y_test), verbose=False)\n",
    "\n",
    "# Evaluate the model\n",
    "y_pred = model.predict(X_test)\n",
    "accuracy = accuracy_score(y_test, y_pred)\n",
    "print(\"Accuracy:\", accuracy)"
   ]
  },
  {
   "cell_type": "code",
   "execution_count": 104,
   "id": "25893e76-e12c-4a87-9fae-4bfb9e1e79ee",
   "metadata": {},
   "outputs": [],
   "source": [
    "#Adding predicted team1_win column\n",
    "y_train_pred = model.predict(X)\n",
    "train_df['team1_win_pred'] = y_train_pred"
   ]
  },
  {
   "cell_type": "code",
   "execution_count": 105,
   "id": "5135873b-35b9-4c48-9e96-0da3d1cbb29a",
   "metadata": {},
   "outputs": [],
   "source": [
    "#Add win_pred_team_id\n",
    "\n",
    "# Function to determine the winning team_id based on team1_win_pred\n",
    "def determine_winner(row):\n",
    "    return row['team1_id'] if row['team1_win_pred'] == 1 else row['team2_id']\n",
    "\n",
    "# Apply the function to create the win_pred_team_id column\n",
    "train_df['win_pred_team_id'] = train_df.apply(determine_winner, axis=1)"
   ]
  },
  {
   "cell_type": "code",
   "execution_count": 106,
   "id": "bd7528f4-43a7-4629-acfb-9d3a43496cc2",
   "metadata": {},
   "outputs": [],
   "source": [
    "#Add win_pred_score of the team\n",
    "\n",
    "# Predict probabilities for each class (0 and 1)\n",
    "proba_preds1 = model.predict_proba(X)\n",
    "\n",
    "# Get probability of team1 winning (assuming class index 1 corresponds to team1_win_pred)\n",
    "win_pred_scores1 = proba_preds1[:, 1]\n",
    "\n",
    "# Add win_pred_score column to DataFrame\n",
    "train_df['win_pred_score'] = win_pred_scores1"
   ]
  },
  {
   "cell_type": "code",
   "execution_count": 107,
   "id": "8350e9b6-725b-4057-98f4-6bfb7883941c",
   "metadata": {},
   "outputs": [],
   "source": [
    "train_df['win_pred_score'] = train_df['win_pred_score'].apply(lambda x: x if x >= 0.5 else 1 - x)"
   ]
  },
  {
   "cell_type": "markdown",
   "id": "0e41806a-abba-4af0-948b-71809389911a",
   "metadata": {},
   "source": [
    "## Test Data"
   ]
  },
  {
   "cell_type": "code",
   "execution_count": 114,
   "id": "7346f75c-fc1a-47ac-9e1e-1a48c3a813f4",
   "metadata": {},
   "outputs": [],
   "source": [
    "test_df.rename(columns = {'avg_runs_ratio':'avg_player_runs_ratio','bp_ratio':'avg_bp_ratio','truns_ratio':'avg_truns_ratio',\n",
    "                          't_boundary_ratio':'avg_tb_ratio'}, inplace = True)"
   ]
  },
  {
   "cell_type": "code",
   "execution_count": 124,
   "id": "06daf06d-a346-49ec-a4f3-26c07b87b217",
   "metadata": {},
   "outputs": [],
   "source": [
    "#Apply the model"
   ]
  },
  {
   "cell_type": "code",
   "execution_count": 119,
   "id": "27291a8c-2d4e-40b1-90a9-044780e2459e",
   "metadata": {},
   "outputs": [],
   "source": [
    "train_columns = ['team_count_50runs_last15','team_winp_last5','team1_winp_team2_last15','team1_toss_win','sr_ratio',\n",
    "                'avg_player_runs_ratio','avg_bp_ratio','avg_truns_ratio','avg_tb_ratio',\n",
    "                 'team_runs_ratio','winp_ratio','win_runs_ratio','win_wkts_ratio','rr_ratio','wkt_ratio']\n",
    "\n",
    "X_test_df = test_df.drop(columns=['match_id','team1','team1_id','team1_roster_ids','team2','team2_id','team2_roster_ids','toss winner','toss decision',\n",
    "                                  'venue','city','match_dt','lighting','series_name','season','ground_id','team1only_avg_runs_last15',\n",
    "                                  'ground_avg_runs_last15'])\n",
    "\n",
    "# Reorder columns to match the training data\n",
    "X_test_df = X_test_df[train_columns]\n",
    "\n",
    "y_test_pred = model.predict(X_test_df)\n",
    "\n",
    "# Add the predictions to the test dataframe\n",
    "test_df['team1_win_pred'] = y_test_pred"
   ]
  },
  {
   "cell_type": "code",
   "execution_count": 120,
   "id": "584a4026-a8b2-45ab-80de-3f505ad51c3d",
   "metadata": {},
   "outputs": [],
   "source": [
    "#win Prediction team_id\n",
    "\n",
    "# Function to determine the winning team_id based on team1_win_pred\n",
    "def determine_winner(row):\n",
    "    return row['team1_id'] if row['team1_win_pred'] == 1 else row['team2_id']\n",
    "\n",
    "# Apply the function to create the win_pred_team_id column\n",
    "test_df['win_pred_team_id'] = test_df.apply(determine_winner, axis=1)"
   ]
  },
  {
   "cell_type": "code",
   "execution_count": 121,
   "id": "f99b329e-2c97-4de0-8d77-13660eef8879",
   "metadata": {},
   "outputs": [],
   "source": [
    "#win prediction score\n",
    "\n",
    "# Predict probabilities for each class (0 and 1)\n",
    "proba_preds = model.predict_proba(X_test_df)\n",
    "\n",
    "# Get probability of team1 winning (assuming class index 1 corresponds to team1_win_pred)\n",
    "win_pred_scores = proba_preds[:, 1]\n",
    "\n",
    "# Add win_pred_score column to DataFrame\n",
    "test_df['win_pred_score'] = win_pred_scores"
   ]
  },
  {
   "cell_type": "code",
   "execution_count": 122,
   "id": "7a21d09e-e505-44a2-9a54-4e552ac50476",
   "metadata": {},
   "outputs": [],
   "source": [
    "test_df['win_pred_score'] = test_df['win_pred_score'].apply(lambda x: x if x >= 0.5 else 1 - x)"
   ]
  },
  {
   "cell_type": "code",
   "execution_count": 132,
   "id": "a3504733-e187-4e66-a08a-b346feda2c65",
   "metadata": {},
   "outputs": [],
   "source": [
    "#top 10 features for train and test"
   ]
  },
  {
   "cell_type": "code",
   "execution_count": 128,
   "id": "06ec99a5-9034-49d6-86d1-334cd55a0a7b",
   "metadata": {},
   "outputs": [],
   "source": [
    "features = X_test_df.columns[:15]\n",
    "\n",
    "# Give an id numbering from 1 to 15 to the fifteen features\n",
    "feature_ids = {feature: i+1 for i, feature in enumerate(features)}\n",
    "\n",
    "# Get feature importances\n",
    "feature_importances = model.get_feature_importance(prettified=True)\n",
    "\n",
    "# Create a dictionary with feature names as keys and their importances as values\n",
    "importances = {row['Feature Id']: row['Importances'] for _, row in feature_importances.iterrows()}\n",
    "\n",
    "# Sort features based on their importances\n",
    "sorted_features = sorted(importances.items(), key=lambda x: x[1], reverse=True)\n",
    "\n",
    "# Create 10 columns of top 10 features i.e. top_feature1, top_feature2 and so on\n",
    "for i in range(10):\n",
    "    train_df[f'top_feature{i+1}'] = sorted_features[i][0]\n",
    "\n",
    "# For each row, add the id of the top ten features in their corresponding column\n",
    "for i in range(10):\n",
    "    train_df[f'top_feature{i+1}'] = train_df[f'top_feature{i+1}'].map(feature_ids)\n"
   ]
  },
  {
   "cell_type": "code",
   "execution_count": 133,
   "id": "474c9eef-7903-47cb-8719-fcd8acd8e564",
   "metadata": {},
   "outputs": [],
   "source": [
    "for i in range(10):\n",
    "    test_df[f'top_feature{i+1}'] = sorted_features[i][0]\n",
    "\n",
    "# For each row, add the id of the top ten features in their corresponding column\n",
    "for i in range(10):\n",
    "    test_df[f'top_feature{i+1}'] = test_df[f'top_feature{i+1}'].map(feature_ids)"
   ]
  },
  {
   "cell_type": "code",
   "execution_count": 130,
   "id": "c766e70c-1bd8-478d-a402-f854e694f791",
   "metadata": {},
   "outputs": [
    {
     "name": "stdout",
     "output_type": "stream",
     "text": [
      "Feature IDs:\n",
      "1: team_count_50runs_last15\n",
      "2: team_winp_last5\n",
      "3: team1_winp_team2_last15\n",
      "4: team1_toss_win\n",
      "5: sr_ratio\n",
      "6: avg_player_runs_ratio\n",
      "7: avg_bp_ratio\n",
      "8: avg_truns_ratio\n",
      "9: avg_tb_ratio\n",
      "10: team_runs_ratio\n",
      "11: winp_ratio\n",
      "12: win_runs_ratio\n",
      "13: win_wkts_ratio\n",
      "14: rr_ratio\n",
      "15: wkt_ratio\n"
     ]
    }
   ],
   "source": [
    "# Print the feature_ids dictionary\n",
    "print(\"Feature IDs:\")\n",
    "for feature, id in feature_ids.items():\n",
    "    print(f\"{id}: {feature}\")"
   ]
  },
  {
   "cell_type": "markdown",
   "id": "b2f71f30-301a-4e94-8107-b9c222f2b178",
   "metadata": {},
   "source": [
    "## The submission file"
   ]
  },
  {
   "cell_type": "code",
   "execution_count": 156,
   "id": "3298fd27-4fb5-494a-88be-b1871e245b37",
   "metadata": {},
   "outputs": [],
   "source": [
    "#fill with the train data\n",
    "id_mapping = train_df.set_index('match_id')['win_pred_team_id'].to_dict()\n",
    "\n",
    "# Fill missing values in sub_df['win_pred_team_id'] using the mapping\n",
    "sub_df['win_pred_team_id'] = sub_df['match_id'].map(id_mapping).fillna(sub_df['win_pred_team_id'])"
   ]
  },
  {
   "cell_type": "code",
   "execution_count": 157,
   "id": "a9ef09e1-5b02-446f-a834-9a45e461031b",
   "metadata": {},
   "outputs": [],
   "source": [
    "#fill with the train data\n",
    "id_mapping = train_df.set_index('match_id')['win_pred_score'].to_dict()\n",
    "\n",
    "# Fill missing values in sub_df['win_pred_team_id'] using the mapping\n",
    "sub_df['win_pred_score'] = sub_df['match_id'].map(id_mapping).fillna(sub_df['win_pred_score'])"
   ]
  },
  {
   "cell_type": "code",
   "execution_count": 158,
   "id": "2d794f9c-16dc-4162-9ee1-f027607950a7",
   "metadata": {},
   "outputs": [],
   "source": [
    "#fill with test data\n",
    "id_mapping = test_df.set_index('match_id')['win_pred_team_id'].to_dict()\n",
    "\n",
    "# Fill missing values in sub_df['win_pred_team_id'] using the mapping\n",
    "sub_df['win_pred_team_id'] = sub_df['match_id'].map(id_mapping).fillna(sub_df['win_pred_team_id'])"
   ]
  },
  {
   "cell_type": "code",
   "execution_count": 159,
   "id": "a7b8c378-521f-4462-87e9-f38dfb34e0cc",
   "metadata": {},
   "outputs": [],
   "source": [
    "id_mapping = test_df.set_index('match_id')['win_pred_score'].to_dict()\n",
    "\n",
    "# Fill missing values in sub_df['win_pred_team_id'] using the mapping\n",
    "sub_df['win_pred_score'] = sub_df['match_id'].map(id_mapping).fillna(sub_df['win_pred_score'])"
   ]
  },
  {
   "cell_type": "code",
   "execution_count": 166,
   "id": "c0b0e164-731a-4014-a388-a8f728824ae1",
   "metadata": {},
   "outputs": [
    {
     "data": {
      "text/html": [
       "<div>\n",
       "<style scoped>\n",
       "    .dataframe tbody tr th:only-of-type {\n",
       "        vertical-align: middle;\n",
       "    }\n",
       "\n",
       "    .dataframe tbody tr th {\n",
       "        vertical-align: top;\n",
       "    }\n",
       "\n",
       "    .dataframe thead th {\n",
       "        text-align: right;\n",
       "    }\n",
       "</style>\n",
       "<table border=\"1\" class=\"dataframe\">\n",
       "  <thead>\n",
       "    <tr style=\"text-align: right;\">\n",
       "      <th></th>\n",
       "      <th>match id</th>\n",
       "      <th>dataset_type</th>\n",
       "      <th>win_pred_team_id</th>\n",
       "      <th>win_pred_score</th>\n",
       "      <th>train_algorithm</th>\n",
       "      <th>is_ensemble</th>\n",
       "      <th>train_hps_trees</th>\n",
       "      <th>train_hps_depth</th>\n",
       "      <th>train_hps_lr</th>\n",
       "      <th>indep_feat_id1</th>\n",
       "      <th>indep_feat_id2</th>\n",
       "      <th>indep_feat_id3</th>\n",
       "      <th>indep_feat_id4</th>\n",
       "      <th>indep_feat_id5</th>\n",
       "      <th>indep_feat_id6</th>\n",
       "      <th>indep_feat_id7</th>\n",
       "      <th>indep_feat_id8</th>\n",
       "      <th>indep_feat_id9</th>\n",
       "      <th>indep_feat_id10</th>\n",
       "    </tr>\n",
       "  </thead>\n",
       "  <tbody>\n",
       "    <tr>\n",
       "      <th>0</th>\n",
       "      <td>9250275</td>\n",
       "      <td>r1</td>\n",
       "      <td>28594.0</td>\n",
       "      <td>0.541319</td>\n",
       "      <td>catboost</td>\n",
       "      <td>no</td>\n",
       "      <td>1000.0</td>\n",
       "      <td>6.0</td>\n",
       "      <td>0.1</td>\n",
       "      <td>11.0</td>\n",
       "      <td>15.0</td>\n",
       "      <td>13.0</td>\n",
       "      <td>8.0</td>\n",
       "      <td>14.0</td>\n",
       "      <td>2.0</td>\n",
       "      <td>7.0</td>\n",
       "      <td>10.0</td>\n",
       "      <td>12.0</td>\n",
       "      <td>1.0</td>\n",
       "    </tr>\n",
       "    <tr>\n",
       "      <th>1</th>\n",
       "      <td>9262189</td>\n",
       "      <td>r1</td>\n",
       "      <td>36084.0</td>\n",
       "      <td>0.667763</td>\n",
       "      <td>catboost</td>\n",
       "      <td>no</td>\n",
       "      <td>1000.0</td>\n",
       "      <td>6.0</td>\n",
       "      <td>0.1</td>\n",
       "      <td>11.0</td>\n",
       "      <td>15.0</td>\n",
       "      <td>13.0</td>\n",
       "      <td>8.0</td>\n",
       "      <td>14.0</td>\n",
       "      <td>2.0</td>\n",
       "      <td>7.0</td>\n",
       "      <td>10.0</td>\n",
       "      <td>12.0</td>\n",
       "      <td>1.0</td>\n",
       "    </tr>\n",
       "    <tr>\n",
       "      <th>2</th>\n",
       "      <td>9128776</td>\n",
       "      <td>r1</td>\n",
       "      <td>48334.0</td>\n",
       "      <td>0.555825</td>\n",
       "      <td>catboost</td>\n",
       "      <td>no</td>\n",
       "      <td>1000.0</td>\n",
       "      <td>6.0</td>\n",
       "      <td>0.1</td>\n",
       "      <td>11.0</td>\n",
       "      <td>15.0</td>\n",
       "      <td>13.0</td>\n",
       "      <td>8.0</td>\n",
       "      <td>14.0</td>\n",
       "      <td>2.0</td>\n",
       "      <td>7.0</td>\n",
       "      <td>10.0</td>\n",
       "      <td>12.0</td>\n",
       "      <td>1.0</td>\n",
       "    </tr>\n",
       "    <tr>\n",
       "      <th>3</th>\n",
       "      <td>9586919</td>\n",
       "      <td>r1</td>\n",
       "      <td>36098.0</td>\n",
       "      <td>0.524820</td>\n",
       "      <td>catboost</td>\n",
       "      <td>no</td>\n",
       "      <td>1000.0</td>\n",
       "      <td>6.0</td>\n",
       "      <td>0.1</td>\n",
       "      <td>11.0</td>\n",
       "      <td>15.0</td>\n",
       "      <td>13.0</td>\n",
       "      <td>8.0</td>\n",
       "      <td>14.0</td>\n",
       "      <td>2.0</td>\n",
       "      <td>7.0</td>\n",
       "      <td>10.0</td>\n",
       "      <td>12.0</td>\n",
       "      <td>1.0</td>\n",
       "    </tr>\n",
       "    <tr>\n",
       "      <th>4</th>\n",
       "      <td>9128538</td>\n",
       "      <td>r1</td>\n",
       "      <td>48341.0</td>\n",
       "      <td>0.545569</td>\n",
       "      <td>catboost</td>\n",
       "      <td>no</td>\n",
       "      <td>1000.0</td>\n",
       "      <td>6.0</td>\n",
       "      <td>0.1</td>\n",
       "      <td>11.0</td>\n",
       "      <td>15.0</td>\n",
       "      <td>13.0</td>\n",
       "      <td>8.0</td>\n",
       "      <td>14.0</td>\n",
       "      <td>2.0</td>\n",
       "      <td>7.0</td>\n",
       "      <td>10.0</td>\n",
       "      <td>12.0</td>\n",
       "      <td>1.0</td>\n",
       "    </tr>\n",
       "  </tbody>\n",
       "</table>\n",
       "</div>"
      ],
      "text/plain": [
       "   match id dataset_type  win_pred_team_id  win_pred_score train_algorithm  \\\n",
       "0   9250275           r1           28594.0        0.541319        catboost   \n",
       "1   9262189           r1           36084.0        0.667763        catboost   \n",
       "2   9128776           r1           48334.0        0.555825        catboost   \n",
       "3   9586919           r1           36098.0        0.524820        catboost   \n",
       "4   9128538           r1           48341.0        0.545569        catboost   \n",
       "\n",
       "  is_ensemble  train_hps_trees  train_hps_depth  train_hps_lr  indep_feat_id1  \\\n",
       "0          no           1000.0              6.0           0.1            11.0   \n",
       "1          no           1000.0              6.0           0.1            11.0   \n",
       "2          no           1000.0              6.0           0.1            11.0   \n",
       "3          no           1000.0              6.0           0.1            11.0   \n",
       "4          no           1000.0              6.0           0.1            11.0   \n",
       "\n",
       "   indep_feat_id2  indep_feat_id3  indep_feat_id4  indep_feat_id5  \\\n",
       "0            15.0            13.0             8.0            14.0   \n",
       "1            15.0            13.0             8.0            14.0   \n",
       "2            15.0            13.0             8.0            14.0   \n",
       "3            15.0            13.0             8.0            14.0   \n",
       "4            15.0            13.0             8.0            14.0   \n",
       "\n",
       "   indep_feat_id6  indep_feat_id7  indep_feat_id8  indep_feat_id9  \\\n",
       "0             2.0             7.0            10.0            12.0   \n",
       "1             2.0             7.0            10.0            12.0   \n",
       "2             2.0             7.0            10.0            12.0   \n",
       "3             2.0             7.0            10.0            12.0   \n",
       "4             2.0             7.0            10.0            12.0   \n",
       "\n",
       "   indep_feat_id10  \n",
       "0              1.0  \n",
       "1              1.0  \n",
       "2              1.0  \n",
       "3              1.0  \n",
       "4              1.0  "
      ]
     },
     "execution_count": 166,
     "metadata": {},
     "output_type": "execute_result"
    }
   ],
   "source": [
    "sub_df.head()"
   ]
  },
  {
   "cell_type": "code",
   "execution_count": 165,
   "id": "ef870724-16f8-4a3a-a1eb-3ac7d38f4672",
   "metadata": {},
   "outputs": [],
   "source": [
    "sub_df['train_algorithm'] = sub_df['train_algorithm'].fillna('catboost')\n",
    "sub_df['is_ensemble'] = sub_df['is_ensemble'].fillna('no')\n",
    "sub_df['train_hps_depth'] = sub_df['train_hps_depth'].fillna(6)\n",
    "sub_df['train_hps_trees'] = sub_df['train_hps_trees'].fillna(1000)\n",
    "sub_df['train_hps_lr'] = sub_df['train_hps_lr'].fillna(0.1)\n",
    "sub_df['indep_feat_id1'] = sub_df['indep_feat_id1'].fillna(11)\n",
    "sub_df['indep_feat_id2'] = sub_df['indep_feat_id2'].fillna(15)\n",
    "sub_df['indep_feat_id3'] = sub_df['indep_feat_id3'].fillna(13)\n",
    "sub_df['indep_feat_id4'] = sub_df['indep_feat_id4'].fillna(8)\n",
    "sub_df['indep_feat_id5'] = sub_df['indep_feat_id5'].fillna(14)\n",
    "sub_df['indep_feat_id6'] = sub_df['indep_feat_id6'].fillna(2)\n",
    "sub_df['indep_feat_id7'] = sub_df['indep_feat_id7'].fillna(7)\n",
    "sub_df['indep_feat_id8'] = sub_df['indep_feat_id8'].fillna(10)\n",
    "sub_df['indep_feat_id9'] = sub_df['indep_feat_id9'].fillna(12)\n",
    "sub_df['indep_feat_id10'] = sub_df['indep_feat_id10'].fillna(1)"
   ]
  },
  {
   "cell_type": "code",
   "execution_count": 168,
   "id": "6998b17d-4552-4268-9ec1-d24ee145244d",
   "metadata": {},
   "outputs": [
    {
     "name": "stdout",
     "output_type": "stream",
     "text": [
      "                     Feature  Importance\n",
      "10                winp_ratio   16.530527\n",
      "14                 wkt_ratio    8.600006\n",
      "12            win_wkts_ratio    8.154526\n",
      "7            avg_truns_ratio    7.514163\n",
      "13                  rr_ratio    7.452120\n",
      "1            team_winp_last5    6.944660\n",
      "6               avg_bp_ratio    6.828447\n",
      "9            team_runs_ratio    6.236851\n",
      "11            win_runs_ratio    6.208107\n",
      "0   team_count_50runs_last15    5.776017\n",
      "4                   sr_ratio    4.672838\n",
      "8               avg_tb_ratio    4.495505\n",
      "2    team1_winp_team2_last15    4.265701\n",
      "5      avg_player_runs_ratio    4.036772\n",
      "3             team1_toss_win    2.283760\n"
     ]
    }
   ],
   "source": [
    "feature_importances = model.feature_importances_\n",
    "\n",
    "# Create a dataframe to store feature importances\n",
    "importance_df = pd.DataFrame({\n",
    "    'Feature': X.columns,\n",
    "    'Importance': feature_importances\n",
    "})\n",
    "\n",
    "# Sort by importance (descending order)\n",
    "importance_df = importance_df.sort_values(by='Importance', ascending=False)\n",
    "\n",
    "# Print the feature importance rank\n",
    "print(importance_df)"
   ]
  },
  {
   "cell_type": "code",
   "execution_count": 206,
   "id": "e8898c10-102f-4fc1-8507-73e65ae2f472",
   "metadata": {},
   "outputs": [
    {
     "data": {
      "text/plain": [
       "['match id',\n",
       " 'dataset_type',\n",
       " 'win_pred_team_id',\n",
       " 'win_pred_score',\n",
       " 'train_algorithm',\n",
       " 'is_ensemble',\n",
       " 'train_hps_trees',\n",
       " 'train_hps_depth',\n",
       " 'train_hps_lr',\n",
       " 'indep_feat_id1',\n",
       " 'indep_feat_id2',\n",
       " 'indep_feat_id3',\n",
       " 'indep_feat_id4',\n",
       " 'indep_feat_id5',\n",
       " 'indep_feat_id6',\n",
       " 'indep_feat_id7',\n",
       " 'indep_feat_id8',\n",
       " 'indep_feat_id9',\n",
       " 'indep_feat_id10']"
      ]
     },
     "execution_count": 206,
     "metadata": {},
     "output_type": "execute_result"
    }
   ],
   "source": [
    "sub_df.columns.to_list()"
   ]
  },
  {
   "cell_type": "code",
   "execution_count": 169,
   "id": "e06160a8-38f5-45d2-9dba-f1a889def058",
   "metadata": {},
   "outputs": [],
   "source": [
    "sub_df.to_csv(r'C:\\Users\\sakka\\OneDrive\\Documents\\AMEX\\submitted file\\subm1.csv')"
   ]
  },
  {
   "cell_type": "code",
   "execution_count": 174,
   "id": "e83e0b20-ecf8-48fc-a10e-439b01b79d5f",
   "metadata": {},
   "outputs": [],
   "source": [
    "importance_df.rename(columns = {'Feature':'feat_name'}, inplace = True)"
   ]
  },
  {
   "cell_type": "code",
   "execution_count": 176,
   "id": "81691e24-71f9-46a7-8b87-dc7c9793df74",
   "metadata": {},
   "outputs": [],
   "source": [
    "importance_df.rename(columns = {'Importance':'model_feat_imp_train'}, inplace = True)"
   ]
  },
  {
   "cell_type": "code",
   "execution_count": 187,
   "id": "c010c0d8-4b4d-4443-9f37-28c3b36cad8a",
   "metadata": {},
   "outputs": [
    {
     "data": {
      "text/html": [
       "<div>\n",
       "<style scoped>\n",
       "    .dataframe tbody tr th:only-of-type {\n",
       "        vertical-align: middle;\n",
       "    }\n",
       "\n",
       "    .dataframe tbody tr th {\n",
       "        vertical-align: top;\n",
       "    }\n",
       "\n",
       "    .dataframe thead th {\n",
       "        text-align: right;\n",
       "    }\n",
       "</style>\n",
       "<table border=\"1\" class=\"dataframe\">\n",
       "  <thead>\n",
       "    <tr style=\"text-align: right;\">\n",
       "      <th></th>\n",
       "      <th>feat_name</th>\n",
       "      <th>model_feat_imp_train</th>\n",
       "    </tr>\n",
       "  </thead>\n",
       "  <tbody>\n",
       "    <tr>\n",
       "      <th>10</th>\n",
       "      <td>winp_ratio</td>\n",
       "      <td>16.530527</td>\n",
       "    </tr>\n",
       "    <tr>\n",
       "      <th>14</th>\n",
       "      <td>wkt_ratio</td>\n",
       "      <td>8.600006</td>\n",
       "    </tr>\n",
       "    <tr>\n",
       "      <th>12</th>\n",
       "      <td>win_wkts_ratio</td>\n",
       "      <td>8.154526</td>\n",
       "    </tr>\n",
       "    <tr>\n",
       "      <th>7</th>\n",
       "      <td>avg_truns_ratio</td>\n",
       "      <td>7.514163</td>\n",
       "    </tr>\n",
       "    <tr>\n",
       "      <th>13</th>\n",
       "      <td>rr_ratio</td>\n",
       "      <td>7.452120</td>\n",
       "    </tr>\n",
       "    <tr>\n",
       "      <th>1</th>\n",
       "      <td>team_winp_last5</td>\n",
       "      <td>6.944660</td>\n",
       "    </tr>\n",
       "    <tr>\n",
       "      <th>6</th>\n",
       "      <td>avg_bp_ratio</td>\n",
       "      <td>6.828447</td>\n",
       "    </tr>\n",
       "    <tr>\n",
       "      <th>9</th>\n",
       "      <td>team_runs_ratio</td>\n",
       "      <td>6.236851</td>\n",
       "    </tr>\n",
       "    <tr>\n",
       "      <th>11</th>\n",
       "      <td>win_runs_ratio</td>\n",
       "      <td>6.208107</td>\n",
       "    </tr>\n",
       "    <tr>\n",
       "      <th>0</th>\n",
       "      <td>team_count_50runs_last15</td>\n",
       "      <td>5.776017</td>\n",
       "    </tr>\n",
       "    <tr>\n",
       "      <th>4</th>\n",
       "      <td>sr_ratio</td>\n",
       "      <td>4.672838</td>\n",
       "    </tr>\n",
       "    <tr>\n",
       "      <th>8</th>\n",
       "      <td>avg_tb_ratio</td>\n",
       "      <td>4.495505</td>\n",
       "    </tr>\n",
       "    <tr>\n",
       "      <th>2</th>\n",
       "      <td>team1_winp_team2_last15</td>\n",
       "      <td>4.265701</td>\n",
       "    </tr>\n",
       "    <tr>\n",
       "      <th>5</th>\n",
       "      <td>avg_player_runs_ratio</td>\n",
       "      <td>4.036772</td>\n",
       "    </tr>\n",
       "    <tr>\n",
       "      <th>3</th>\n",
       "      <td>team1_toss_win</td>\n",
       "      <td>2.283760</td>\n",
       "    </tr>\n",
       "  </tbody>\n",
       "</table>\n",
       "</div>"
      ],
      "text/plain": [
       "                   feat_name  model_feat_imp_train\n",
       "10                winp_ratio             16.530527\n",
       "14                 wkt_ratio              8.600006\n",
       "12            win_wkts_ratio              8.154526\n",
       "7            avg_truns_ratio              7.514163\n",
       "13                  rr_ratio              7.452120\n",
       "1            team_winp_last5              6.944660\n",
       "6               avg_bp_ratio              6.828447\n",
       "9            team_runs_ratio              6.236851\n",
       "11            win_runs_ratio              6.208107\n",
       "0   team_count_50runs_last15              5.776017\n",
       "4                   sr_ratio              4.672838\n",
       "8               avg_tb_ratio              4.495505\n",
       "2    team1_winp_team2_last15              4.265701\n",
       "5      avg_player_runs_ratio              4.036772\n",
       "3             team1_toss_win              2.283760"
      ]
     },
     "execution_count": 187,
     "metadata": {},
     "output_type": "execute_result"
    }
   ],
   "source": [
    "importance_df"
   ]
  },
  {
   "cell_type": "code",
   "execution_count": 204,
   "id": "2490cbbb-caa4-4dce-bd25-bb515b8998ec",
   "metadata": {},
   "outputs": [],
   "source": [
    "sub2_df.to_csv(r\"C:\\Users\\sakka\\OneDrive\\Documents\\AMEX\\submitted file\\submission_file2.csv\")"
   ]
  },
  {
   "cell_type": "code",
   "execution_count": 178,
   "id": "95b0ff82-b72d-440f-aca7-0845ac020cd4",
   "metadata": {},
   "outputs": [],
   "source": [
    "#fill with test data\n",
    "id_mapping = importance_df.set_index('feat_name')['model_feat_imp_train'].to_dict()\n",
    "\n",
    "# Fill missing values in sub_df['win_pred_team_id'] using the mapping\n",
    "sub2_df['model_feat_imp_train'] = sub2_df['feat_name'].map(id_mapping).fillna(sub2_df['model_feat_imp_train'])"
   ]
  },
  {
   "cell_type": "code",
   "execution_count": 189,
   "id": "f3e02463-4619-4c06-83a5-06e397af2f3d",
   "metadata": {},
   "outputs": [],
   "source": [
    "train_df.to_csv(r'C:\\Users\\sakka\\OneDrive\\Documents\\AMEX\\train_after_sub1.csv', index = False)"
   ]
  },
  {
   "cell_type": "code",
   "execution_count": 192,
   "id": "a373377f-5a03-4bfe-8171-413b7b9ac992",
   "metadata": {},
   "outputs": [
    {
     "data": {
      "text/html": [
       "<div>\n",
       "<style scoped>\n",
       "    .dataframe tbody tr th:only-of-type {\n",
       "        vertical-align: middle;\n",
       "    }\n",
       "\n",
       "    .dataframe tbody tr th {\n",
       "        vertical-align: top;\n",
       "    }\n",
       "\n",
       "    .dataframe thead th {\n",
       "        text-align: right;\n",
       "    }\n",
       "</style>\n",
       "<table border=\"1\" class=\"dataframe\">\n",
       "  <thead>\n",
       "    <tr style=\"text-align: right;\">\n",
       "      <th></th>\n",
       "      <th>batsman_id</th>\n",
       "      <th>batting_index2</th>\n",
       "      <th>avg_strike_rate</th>\n",
       "      <th>avg_runs</th>\n",
       "      <th>total_runs</th>\n",
       "      <th>avg_boundary_p</th>\n",
       "      <th>total_scaled_boundaries</th>\n",
       "      <th>not_out</th>\n",
       "    </tr>\n",
       "  </thead>\n",
       "  <tbody>\n",
       "    <tr>\n",
       "      <th>0</th>\n",
       "      <td>31464.0</td>\n",
       "      <td>0.383086</td>\n",
       "      <td>40.910000</td>\n",
       "      <td>3.333333</td>\n",
       "      <td>10</td>\n",
       "      <td>0.000000</td>\n",
       "      <td>0.0</td>\n",
       "      <td>0.0</td>\n",
       "    </tr>\n",
       "    <tr>\n",
       "      <th>1</th>\n",
       "      <td>34061.0</td>\n",
       "      <td>4.835179</td>\n",
       "      <td>110.679259</td>\n",
       "      <td>12.555556</td>\n",
       "      <td>678</td>\n",
       "      <td>0.652375</td>\n",
       "      <td>65.0</td>\n",
       "      <td>18.0</td>\n",
       "    </tr>\n",
       "    <tr>\n",
       "      <th>2</th>\n",
       "      <td>36665.0</td>\n",
       "      <td>5.376091</td>\n",
       "      <td>99.854000</td>\n",
       "      <td>20.800000</td>\n",
       "      <td>208</td>\n",
       "      <td>0.637143</td>\n",
       "      <td>11.0</td>\n",
       "      <td>1.0</td>\n",
       "    </tr>\n",
       "    <tr>\n",
       "      <th>3</th>\n",
       "      <td>37351.0</td>\n",
       "      <td>7.270954</td>\n",
       "      <td>106.113226</td>\n",
       "      <td>25.645161</td>\n",
       "      <td>1590</td>\n",
       "      <td>0.636146</td>\n",
       "      <td>153.5</td>\n",
       "      <td>6.0</td>\n",
       "    </tr>\n",
       "    <tr>\n",
       "      <th>4</th>\n",
       "      <td>41740.0</td>\n",
       "      <td>6.431870</td>\n",
       "      <td>114.373409</td>\n",
       "      <td>22.977273</td>\n",
       "      <td>1011</td>\n",
       "      <td>0.573818</td>\n",
       "      <td>77.5</td>\n",
       "      <td>10.0</td>\n",
       "    </tr>\n",
       "  </tbody>\n",
       "</table>\n",
       "</div>"
      ],
      "text/plain": [
       "   batsman_id  batting_index2  avg_strike_rate   avg_runs  total_runs  \\\n",
       "0     31464.0        0.383086        40.910000   3.333333          10   \n",
       "1     34061.0        4.835179       110.679259  12.555556         678   \n",
       "2     36665.0        5.376091        99.854000  20.800000         208   \n",
       "3     37351.0        7.270954       106.113226  25.645161        1590   \n",
       "4     41740.0        6.431870       114.373409  22.977273        1011   \n",
       "\n",
       "   avg_boundary_p  total_scaled_boundaries  not_out  \n",
       "0        0.000000                      0.0      0.0  \n",
       "1        0.652375                     65.0     18.0  \n",
       "2        0.637143                     11.0      1.0  \n",
       "3        0.636146                    153.5      6.0  \n",
       "4        0.573818                     77.5     10.0  "
      ]
     },
     "execution_count": 192,
     "metadata": {},
     "output_type": "execute_result"
    }
   ],
   "source": [
    "ubat_id.head()"
   ]
  },
  {
   "cell_type": "code",
   "execution_count": null,
   "id": "e9e67fa8-da59-439c-9a73-e3f67c114c4a",
   "metadata": {},
   "outputs": [],
   "source": [
    "#fill with test data\n",
    "id_mapping = test_df.set_index('match_id')['win_pred_team_id'].to_dict()\n",
    "\n",
    "# Fill missing values in sub_df['win_pred_team_id'] using the mapping\n",
    "sub_df['win_pred_team_id'] = sub_df['match_id'].map(id_mapping).fillna(sub_df['win_pred_team_id'])"
   ]
  },
  {
   "cell_type": "code",
   "execution_count": 205,
   "id": "4e74c448-4e68-4593-b89c-8a8c58f2aa97",
   "metadata": {},
   "outputs": [
    {
     "data": {
      "text/plain": [
       "['match_id',\n",
       " 'team1_id',\n",
       " 'team1_roster_ids',\n",
       " 'team2_id',\n",
       " 'team2_roster_ids',\n",
       " 'winner_id',\n",
       " 'venue',\n",
       " 'city',\n",
       " 'series_name',\n",
       " 'ground_id',\n",
       " 'team_count_50runs_last15',\n",
       " 'team_winp_last5',\n",
       " 'team1only_avg_runs_last15',\n",
       " 'team1_winp_team2_last15',\n",
       " 'ground_avg_runs_last15',\n",
       " 'year',\n",
       " 'toss_decision_bat',\n",
       " 'toss_decision_field',\n",
       " 'toss_winner_id',\n",
       " 'team1_bat_roster_ids',\n",
       " 'team2_bat_roster_ids',\n",
       " 'team1_bowl_roster_ids',\n",
       " 'team2_bowl_roster_ids',\n",
       " 'team1_win',\n",
       " 'team1_toss_win',\n",
       " 'sr_ratio',\n",
       " 'avg_player_runs_ratio',\n",
       " 'avg_bp_ratio',\n",
       " 'avg_truns_ratio',\n",
       " 'avg_tb_ratio',\n",
       " 'team_runs_ratio',\n",
       " 'winp_ratio',\n",
       " 'win_runs_ratio',\n",
       " 'win_wkts_ratio',\n",
       " 'rr_ratio',\n",
       " 'wkt_ratio',\n",
       " 'team1_win_pred',\n",
       " 'win_pred_team_id',\n",
       " 'win_pred_score',\n",
       " 'top_feature1',\n",
       " 'top_feature2',\n",
       " 'top_feature3',\n",
       " 'top_feature4',\n",
       " 'top_feature5',\n",
       " 'top_feature6',\n",
       " 'top_feature7',\n",
       " 'top_feature8',\n",
       " 'top_feature9',\n",
       " 'top_feature10']"
      ]
     },
     "execution_count": 205,
     "metadata": {},
     "output_type": "execute_result"
    }
   ],
   "source": [
    "train_df.columns.to_list()"
   ]
  },
  {
   "cell_type": "code",
   "execution_count": 198,
   "id": "78cbb96f-2273-4244-bfda-153269285dc5",
   "metadata": {},
   "outputs": [],
   "source": [
    "columns_to_merge = ['match_id','bat_idx_ratio']\n",
    "\n",
    "# Merge the DataFrames on 'match_id'\n",
    "train_df = pd.merge(train_df, testing[columns_to_merge], on='match_id', how='left')"
   ]
  },
  {
   "cell_type": "code",
   "execution_count": 199,
   "id": "5a7aca93-7229-4348-81af-0082baf80023",
   "metadata": {},
   "outputs": [
    {
     "data": {
      "text/plain": [
       "56.89277899343544"
      ]
     },
     "execution_count": 199,
     "metadata": {},
     "output_type": "execute_result"
    }
   ],
   "source": [
    "filtered_df = train_df[train_df['bat_idx_ratio']> 1]\n",
    "\n",
    "# Step 2: Count rows where both col1 > 1 and col2 == 1\n",
    "count_col1_gt_1_and_col2_1 = filtered_df[filtered_df['team1_win'] == 1].shape[0]\n",
    "\n",
    "# Step 3: Total number of rows where col1 > 1\n",
    "total_col1_gt_1 = filtered_df.shape[0]\n",
    "\n",
    "# Step 4: Calculate the percentage\n",
    "if total_col1_gt_1 > 0:\n",
    "    percentage = (count_col1_gt_1_and_col2_1 / total_col1_gt_1) * 100\n",
    "else:\n",
    "    percentage = 0.0  # Handle the case where there are no rows where col1 > 1\n",
    "percentage"
   ]
  },
  {
   "cell_type": "markdown",
   "id": "d4656843-b663-4253-af46-f8c4cf41eeb8",
   "metadata": {},
   "source": [
    "## team year features analysis"
   ]
  },
  {
   "cell_type": "code",
   "execution_count": 202,
   "id": "a8c4ad03-ddbd-4233-bf04-b64325441d5b",
   "metadata": {},
   "outputs": [
    {
     "data": {
      "text/html": [
       "<div>\n",
       "<style scoped>\n",
       "    .dataframe tbody tr th:only-of-type {\n",
       "        vertical-align: middle;\n",
       "    }\n",
       "\n",
       "    .dataframe tbody tr th {\n",
       "        vertical-align: top;\n",
       "    }\n",
       "\n",
       "    .dataframe thead th {\n",
       "        text-align: right;\n",
       "    }\n",
       "</style>\n",
       "<table border=\"1\" class=\"dataframe\">\n",
       "  <thead>\n",
       "    <tr style=\"text-align: right;\">\n",
       "      <th></th>\n",
       "      <th>batsman_id</th>\n",
       "      <th>batting_index2</th>\n",
       "      <th>avg_strike_rate</th>\n",
       "      <th>avg_runs</th>\n",
       "      <th>total_runs</th>\n",
       "      <th>avg_boundary_p</th>\n",
       "      <th>total_scaled_boundaries</th>\n",
       "      <th>not_out</th>\n",
       "    </tr>\n",
       "  </thead>\n",
       "  <tbody>\n",
       "    <tr>\n",
       "      <th>0</th>\n",
       "      <td>31464.0</td>\n",
       "      <td>0.383086</td>\n",
       "      <td>40.910000</td>\n",
       "      <td>3.333333</td>\n",
       "      <td>10</td>\n",
       "      <td>0.000000</td>\n",
       "      <td>0.0</td>\n",
       "      <td>0.0</td>\n",
       "    </tr>\n",
       "    <tr>\n",
       "      <th>1</th>\n",
       "      <td>34061.0</td>\n",
       "      <td>4.835179</td>\n",
       "      <td>110.679259</td>\n",
       "      <td>12.555556</td>\n",
       "      <td>678</td>\n",
       "      <td>0.652375</td>\n",
       "      <td>65.0</td>\n",
       "      <td>18.0</td>\n",
       "    </tr>\n",
       "    <tr>\n",
       "      <th>2</th>\n",
       "      <td>36665.0</td>\n",
       "      <td>5.376091</td>\n",
       "      <td>99.854000</td>\n",
       "      <td>20.800000</td>\n",
       "      <td>208</td>\n",
       "      <td>0.637143</td>\n",
       "      <td>11.0</td>\n",
       "      <td>1.0</td>\n",
       "    </tr>\n",
       "    <tr>\n",
       "      <th>3</th>\n",
       "      <td>37351.0</td>\n",
       "      <td>7.270954</td>\n",
       "      <td>106.113226</td>\n",
       "      <td>25.645161</td>\n",
       "      <td>1590</td>\n",
       "      <td>0.636146</td>\n",
       "      <td>153.5</td>\n",
       "      <td>6.0</td>\n",
       "    </tr>\n",
       "    <tr>\n",
       "      <th>4</th>\n",
       "      <td>41740.0</td>\n",
       "      <td>6.431870</td>\n",
       "      <td>114.373409</td>\n",
       "      <td>22.977273</td>\n",
       "      <td>1011</td>\n",
       "      <td>0.573818</td>\n",
       "      <td>77.5</td>\n",
       "      <td>10.0</td>\n",
       "    </tr>\n",
       "  </tbody>\n",
       "</table>\n",
       "</div>"
      ],
      "text/plain": [
       "   batsman_id  batting_index2  avg_strike_rate   avg_runs  total_runs  \\\n",
       "0     31464.0        0.383086        40.910000   3.333333          10   \n",
       "1     34061.0        4.835179       110.679259  12.555556         678   \n",
       "2     36665.0        5.376091        99.854000  20.800000         208   \n",
       "3     37351.0        7.270954       106.113226  25.645161        1590   \n",
       "4     41740.0        6.431870       114.373409  22.977273        1011   \n",
       "\n",
       "   avg_boundary_p  total_scaled_boundaries  not_out  \n",
       "0        0.000000                      0.0      0.0  \n",
       "1        0.652375                     65.0     18.0  \n",
       "2        0.637143                     11.0      1.0  \n",
       "3        0.636146                    153.5      6.0  \n",
       "4        0.573818                     77.5     10.0  "
      ]
     },
     "execution_count": 202,
     "metadata": {},
     "output_type": "execute_result"
    }
   ],
   "source": [
    "ubat_id.head()"
   ]
  },
  {
   "cell_type": "code",
   "execution_count": 203,
   "id": "98338a67-1175-4af6-9c99-35965c2b31ed",
   "metadata": {},
   "outputs": [
    {
     "ename": "NameError",
     "evalue": "name 'mat_df' is not defined",
     "output_type": "error",
     "traceback": [
      "\u001b[1;31m---------------------------------------------------------------------------\u001b[0m",
      "\u001b[1;31mNameError\u001b[0m                                 Traceback (most recent call last)",
      "Cell \u001b[1;32mIn[203], line 2\u001b[0m\n\u001b[0;32m      1\u001b[0m \u001b[38;5;66;03m# Convert match_dt to datetime format\u001b[39;00m\n\u001b[1;32m----> 2\u001b[0m mat_df[\u001b[38;5;124m'\u001b[39m\u001b[38;5;124mmatch_dt\u001b[39m\u001b[38;5;124m'\u001b[39m] \u001b[38;5;241m=\u001b[39m pd\u001b[38;5;241m.\u001b[39mto_datetime(mat_df[\u001b[38;5;124m'\u001b[39m\u001b[38;5;124mmatch_dt\u001b[39m\u001b[38;5;124m'\u001b[39m])\n\u001b[0;32m      4\u001b[0m \u001b[38;5;66;03m# Extract the year and create a new column\u001b[39;00m\n\u001b[0;32m      5\u001b[0m mat_df[\u001b[38;5;124m'\u001b[39m\u001b[38;5;124myear\u001b[39m\u001b[38;5;124m'\u001b[39m] \u001b[38;5;241m=\u001b[39m mat_df[\u001b[38;5;124m'\u001b[39m\u001b[38;5;124mmatch_dt\u001b[39m\u001b[38;5;124m'\u001b[39m]\u001b[38;5;241m.\u001b[39mdt\u001b[38;5;241m.\u001b[39myear\n",
      "\u001b[1;31mNameError\u001b[0m: name 'mat_df' is not defined"
     ]
    }
   ],
   "source": [
    "# Convert match_dt to datetime format\n",
    "mat_df['match_dt'] = pd.to_datetime(mat_df['match_dt'])\n",
    "\n",
    "# Extract the year and create a new column\n",
    "mat_df['year'] = mat_df['match_dt'].dt.year"
   ]
  },
  {
   "cell_type": "code",
   "execution_count": null,
   "id": "245323fa-e9f3-4318-805c-644d075abb27",
   "metadata": {},
   "outputs": [],
   "source": []
  }
 ],
 "metadata": {
  "kernelspec": {
   "display_name": "Python 3 (ipykernel)",
   "language": "python",
   "name": "python3"
  },
  "language_info": {
   "codemirror_mode": {
    "name": "ipython",
    "version": 3
   },
   "file_extension": ".py",
   "mimetype": "text/x-python",
   "name": "python",
   "nbconvert_exporter": "python",
   "pygments_lexer": "ipython3",
   "version": "3.11.7"
  }
 },
 "nbformat": 4,
 "nbformat_minor": 5
}
